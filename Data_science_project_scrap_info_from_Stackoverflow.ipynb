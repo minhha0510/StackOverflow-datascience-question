{
  "nbformat": 4,
  "nbformat_minor": 0,
  "metadata": {
    "colab": {
      "name": "Data science project- scrap info from Stackoverflow.ipynb",
      "provenance": [],
      "authorship_tag": "ABX9TyM/jbyaaT43kersTARQ63De",
      "include_colab_link": true
    },
    "kernelspec": {
      "name": "python3",
      "display_name": "Python 3"
    },
    "language_info": {
      "name": "python"
    }
  },
  "cells": [
    {
      "cell_type": "markdown",
      "metadata": {
        "id": "view-in-github",
        "colab_type": "text"
      },
      "source": [
        "<a href=\"https://colab.research.google.com/github/minhha0510/StackOverflow-datascience-question/blob/main/Data_science_project_scrap_info_from_Stackoverflow.ipynb\" target=\"_parent\"><img src=\"https://colab.research.google.com/assets/colab-badge.svg\" alt=\"Open In Colab\"/></a>"
      ]
    },
    {
      "cell_type": "markdown",
      "source": [
        "## Executive summary"
      ],
      "metadata": {
        "id": "ORwAXnRebb-o"
      }
    },
    {
      "cell_type": "markdown",
      "source": [
        "### The problem\n",
        "I tried to answer: *\"What is it that people want to learn about in data science?\"*\n",
        "\n",
        "### The approach\n",
        "\n",
        "Data source: I decided to use StackExchange, one of the most popular forums for people to ask questions about DataScience and Programming in general.\n",
        "\n",
        "I first categorize the broad subject based on \"tags\" data from StackOverflow. From there, I further niched down to identify the specific topics\n",
        "\n",
        "The steps in data analysis process are:\n",
        "1. Data exploration\n",
        "2. Data cleaning\n",
        "3. Exploring the most popular tags\n",
        "4. Engaging domain knowledge\n",
        "\n",
        "### Result\n",
        "\n",
        "`Deep learning` is the topic has demonstrated a substaintial interest since 2014. The analysis also identifies 46 specific topics related to `Deep learning` for writing learning materials. "
      ],
      "metadata": {
        "id": "EhDUwDBWXXat"
      }
    },
    {
      "cell_type": "markdown",
      "source": [
        "## Data exploration"
      ],
      "metadata": {
        "id": "pesWy17dbu9E"
      }
    },
    {
      "cell_type": "markdown",
      "source": [
        "StackExchange provides \"Query Data\" that uses SQL as the main query language. I extracted *6155 rows* by using the following code \n",
        "\n",
        "```\n",
        "SELECT Id, CreationDate, \n",
        "       Score, ViewCount, \n",
        "       Tags, AnswerCount, \n",
        "        FavoriteCount\n",
        "FROM posts\n",
        "WHERE PostTypeId = 1\n",
        "AND CreationDate LIKE '%2020%';\n",
        "```\n",
        "PostyTypeId = 1 is the id for posts that are questions and answers"
      ],
      "metadata": {
        "id": "YmOh1EL4oQ8m"
      }
    },
    {
      "cell_type": "code",
      "execution_count": 1,
      "metadata": {
        "id": "YLFQvEaUbbOY"
      },
      "outputs": [],
      "source": [
        "#loading the packages\n",
        "import pandas as pd\n",
        "import numpy as np\n",
        "import datetime as dt\n",
        "import matplotlib.pyplot as plt\n",
        "import seaborn as sns\n",
        "import missingno as msno\n",
        "import operator\n",
        "from functools import reduce"
      ]
    },
    {
      "cell_type": "code",
      "source": [
        "url =  'https://raw.githubusercontent.com/minhha0510/StackOverflow-datascience-question/main/2020-2021%20stackoverflow%20data.csv'\n",
        " "
      ],
      "metadata": {
        "id": "ZqbEGY1kXcOx"
      },
      "execution_count": 2,
      "outputs": []
    },
    {
      "cell_type": "code",
      "source": [
        "%matplotlib inline\n",
        "StackExchange = pd.read_csv(url)"
      ],
      "metadata": {
        "id": "Sxxo1drwXfDm"
      },
      "execution_count": 3,
      "outputs": []
    },
    {
      "cell_type": "code",
      "source": [
        "# Explore the data\n",
        "# We can see \"favourite count\" and \"accepted answerId\" columns have a lot of missing values\n",
        "StackExchange.info()\n",
        "StackExchange.head()"
      ],
      "metadata": {
        "colab": {
          "base_uri": "https://localhost:8080/",
          "height": 0
        },
        "id": "TrBcQzeYX_Fm",
        "outputId": "b33ef9fb-09ce-41e1-f68a-93f18016e295"
      },
      "execution_count": 4,
      "outputs": [
        {
          "output_type": "stream",
          "name": "stdout",
          "text": [
            "<class 'pandas.core.frame.DataFrame'>\n",
            "RangeIndex: 6155 entries, 0 to 6154\n",
            "Data columns (total 8 columns):\n",
            " #   Column            Non-Null Count  Dtype  \n",
            "---  ------            --------------  -----  \n",
            " 0   Id                6155 non-null   int64  \n",
            " 1   CreationDate      6155 non-null   object \n",
            " 2   Score             6155 non-null   int64  \n",
            " 3   ViewCount         6155 non-null   int64  \n",
            " 4   Tags              6155 non-null   object \n",
            " 5   AnswerCount       6155 non-null   int64  \n",
            " 6   FavoriteCount     1059 non-null   float64\n",
            " 7   AcceptedAnswerId  2021 non-null   float64\n",
            "dtypes: float64(2), int64(4), object(2)\n",
            "memory usage: 384.8+ KB\n"
          ]
        },
        {
          "output_type": "execute_result",
          "data": {
            "text/html": [
              "\n",
              "  <div id=\"df-ff768e0d-4de2-40ed-86a1-34c865bb6478\">\n",
              "    <div class=\"colab-df-container\">\n",
              "      <div>\n",
              "<style scoped>\n",
              "    .dataframe tbody tr th:only-of-type {\n",
              "        vertical-align: middle;\n",
              "    }\n",
              "\n",
              "    .dataframe tbody tr th {\n",
              "        vertical-align: top;\n",
              "    }\n",
              "\n",
              "    .dataframe thead th {\n",
              "        text-align: right;\n",
              "    }\n",
              "</style>\n",
              "<table border=\"1\" class=\"dataframe\">\n",
              "  <thead>\n",
              "    <tr style=\"text-align: right;\">\n",
              "      <th></th>\n",
              "      <th>Id</th>\n",
              "      <th>CreationDate</th>\n",
              "      <th>Score</th>\n",
              "      <th>ViewCount</th>\n",
              "      <th>Tags</th>\n",
              "      <th>AnswerCount</th>\n",
              "      <th>FavoriteCount</th>\n",
              "      <th>AcceptedAnswerId</th>\n",
              "    </tr>\n",
              "  </thead>\n",
              "  <tbody>\n",
              "    <tr>\n",
              "      <th>0</th>\n",
              "      <td>76867</td>\n",
              "      <td>2020-06-29 19:10:11</td>\n",
              "      <td>2</td>\n",
              "      <td>142</td>\n",
              "      <td>&lt;classification&gt;&lt;supervised-learning&gt;</td>\n",
              "      <td>0</td>\n",
              "      <td>NaN</td>\n",
              "      <td>NaN</td>\n",
              "    </tr>\n",
              "    <tr>\n",
              "      <th>1</th>\n",
              "      <td>76868</td>\n",
              "      <td>2020-06-29 19:17:25</td>\n",
              "      <td>3</td>\n",
              "      <td>86</td>\n",
              "      <td>&lt;clustering&gt;&lt;imbalance&gt;</td>\n",
              "      <td>1</td>\n",
              "      <td>NaN</td>\n",
              "      <td>NaN</td>\n",
              "    </tr>\n",
              "    <tr>\n",
              "      <th>2</th>\n",
              "      <td>76870</td>\n",
              "      <td>2020-06-29 19:58:26</td>\n",
              "      <td>1</td>\n",
              "      <td>98</td>\n",
              "      <td>&lt;machine-learning&gt;&lt;classification&gt;&lt;dataset&gt;&lt;fe...</td>\n",
              "      <td>1</td>\n",
              "      <td>NaN</td>\n",
              "      <td>NaN</td>\n",
              "    </tr>\n",
              "    <tr>\n",
              "      <th>3</th>\n",
              "      <td>76872</td>\n",
              "      <td>2020-06-29 20:55:34</td>\n",
              "      <td>1</td>\n",
              "      <td>1363</td>\n",
              "      <td>&lt;nlp&gt;&lt;bert&gt;&lt;transformer&gt;</td>\n",
              "      <td>4</td>\n",
              "      <td>NaN</td>\n",
              "      <td>NaN</td>\n",
              "    </tr>\n",
              "    <tr>\n",
              "      <th>4</th>\n",
              "      <td>76873</td>\n",
              "      <td>2020-06-29 21:17:53</td>\n",
              "      <td>2</td>\n",
              "      <td>104</td>\n",
              "      <td>&lt;machine-learning&gt;&lt;r&gt;&lt;bootstraping&gt;</td>\n",
              "      <td>2</td>\n",
              "      <td>NaN</td>\n",
              "      <td>NaN</td>\n",
              "    </tr>\n",
              "  </tbody>\n",
              "</table>\n",
              "</div>\n",
              "      <button class=\"colab-df-convert\" onclick=\"convertToInteractive('df-ff768e0d-4de2-40ed-86a1-34c865bb6478')\"\n",
              "              title=\"Convert this dataframe to an interactive table.\"\n",
              "              style=\"display:none;\">\n",
              "        \n",
              "  <svg xmlns=\"http://www.w3.org/2000/svg\" height=\"24px\"viewBox=\"0 0 24 24\"\n",
              "       width=\"24px\">\n",
              "    <path d=\"M0 0h24v24H0V0z\" fill=\"none\"/>\n",
              "    <path d=\"M18.56 5.44l.94 2.06.94-2.06 2.06-.94-2.06-.94-.94-2.06-.94 2.06-2.06.94zm-11 1L8.5 8.5l.94-2.06 2.06-.94-2.06-.94L8.5 2.5l-.94 2.06-2.06.94zm10 10l.94 2.06.94-2.06 2.06-.94-2.06-.94-.94-2.06-.94 2.06-2.06.94z\"/><path d=\"M17.41 7.96l-1.37-1.37c-.4-.4-.92-.59-1.43-.59-.52 0-1.04.2-1.43.59L10.3 9.45l-7.72 7.72c-.78.78-.78 2.05 0 2.83L4 21.41c.39.39.9.59 1.41.59.51 0 1.02-.2 1.41-.59l7.78-7.78 2.81-2.81c.8-.78.8-2.07 0-2.86zM5.41 20L4 18.59l7.72-7.72 1.47 1.35L5.41 20z\"/>\n",
              "  </svg>\n",
              "      </button>\n",
              "      \n",
              "  <style>\n",
              "    .colab-df-container {\n",
              "      display:flex;\n",
              "      flex-wrap:wrap;\n",
              "      gap: 12px;\n",
              "    }\n",
              "\n",
              "    .colab-df-convert {\n",
              "      background-color: #E8F0FE;\n",
              "      border: none;\n",
              "      border-radius: 50%;\n",
              "      cursor: pointer;\n",
              "      display: none;\n",
              "      fill: #1967D2;\n",
              "      height: 32px;\n",
              "      padding: 0 0 0 0;\n",
              "      width: 32px;\n",
              "    }\n",
              "\n",
              "    .colab-df-convert:hover {\n",
              "      background-color: #E2EBFA;\n",
              "      box-shadow: 0px 1px 2px rgba(60, 64, 67, 0.3), 0px 1px 3px 1px rgba(60, 64, 67, 0.15);\n",
              "      fill: #174EA6;\n",
              "    }\n",
              "\n",
              "    [theme=dark] .colab-df-convert {\n",
              "      background-color: #3B4455;\n",
              "      fill: #D2E3FC;\n",
              "    }\n",
              "\n",
              "    [theme=dark] .colab-df-convert:hover {\n",
              "      background-color: #434B5C;\n",
              "      box-shadow: 0px 1px 3px 1px rgba(0, 0, 0, 0.15);\n",
              "      filter: drop-shadow(0px 1px 2px rgba(0, 0, 0, 0.3));\n",
              "      fill: #FFFFFF;\n",
              "    }\n",
              "  </style>\n",
              "\n",
              "      <script>\n",
              "        const buttonEl =\n",
              "          document.querySelector('#df-ff768e0d-4de2-40ed-86a1-34c865bb6478 button.colab-df-convert');\n",
              "        buttonEl.style.display =\n",
              "          google.colab.kernel.accessAllowed ? 'block' : 'none';\n",
              "\n",
              "        async function convertToInteractive(key) {\n",
              "          const element = document.querySelector('#df-ff768e0d-4de2-40ed-86a1-34c865bb6478');\n",
              "          const dataTable =\n",
              "            await google.colab.kernel.invokeFunction('convertToInteractive',\n",
              "                                                     [key], {});\n",
              "          if (!dataTable) return;\n",
              "\n",
              "          const docLinkHtml = 'Like what you see? Visit the ' +\n",
              "            '<a target=\"_blank\" href=https://colab.research.google.com/notebooks/data_table.ipynb>data table notebook</a>'\n",
              "            + ' to learn more about interactive tables.';\n",
              "          element.innerHTML = '';\n",
              "          dataTable['output_type'] = 'display_data';\n",
              "          await google.colab.output.renderOutput(dataTable, element);\n",
              "          const docLink = document.createElement('div');\n",
              "          docLink.innerHTML = docLinkHtml;\n",
              "          element.appendChild(docLink);\n",
              "        }\n",
              "      </script>\n",
              "    </div>\n",
              "  </div>\n",
              "  "
            ],
            "text/plain": [
              "      Id         CreationDate  ...  FavoriteCount  AcceptedAnswerId\n",
              "0  76867  2020-06-29 19:10:11  ...            NaN               NaN\n",
              "1  76868  2020-06-29 19:17:25  ...            NaN               NaN\n",
              "2  76870  2020-06-29 19:58:26  ...            NaN               NaN\n",
              "3  76872  2020-06-29 20:55:34  ...            NaN               NaN\n",
              "4  76873  2020-06-29 21:17:53  ...            NaN               NaN\n",
              "\n",
              "[5 rows x 8 columns]"
            ]
          },
          "metadata": {},
          "execution_count": 4
        }
      ]
    },
    {
      "cell_type": "code",
      "source": [
        "# Checking the number of entries\n",
        "print('Number of questions asked in 2020: ', len(StackExchange))\n",
        "print('\\n')\n",
        "\n",
        "# Checking missing values\n",
        "print(\n",
        "      f'MISSING VALUES %:\\n{round(100 * StackExchange.isnull().sum()/len(StackExchange))}'\n",
        "      )\n",
        "\n",
        "# Visualizing missing values by means of the missingno library\n",
        "msno.matrix(\n",
        "            StackExchange, \n",
        "            fontsize=20, \n",
        "            color=(0.494, 0.184, 0.556), \n",
        "            sparkline=False,\n",
        "            inline=False\n",
        "            ) \n",
        "plt.title('Visualizing Missing Values', fontsize= 50)\n",
        "plt.show()"
      ],
      "metadata": {
        "colab": {
          "base_uri": "https://localhost:8080/",
          "height": 0
        },
        "id": "Rn7Y4yLjsO0a",
        "outputId": "62ccc0a2-e5b5-4a07-8323-76338465f869"
      },
      "execution_count": 5,
      "outputs": [
        {
          "output_type": "stream",
          "name": "stdout",
          "text": [
            "Number of questions asked in 2020:  6155\n",
            "\n",
            "\n",
            "MISSING VALUES %:\n",
            "Id                   0.0\n",
            "CreationDate         0.0\n",
            "Score                0.0\n",
            "ViewCount            0.0\n",
            "Tags                 0.0\n",
            "AnswerCount          0.0\n",
            "FavoriteCount       83.0\n",
            "AcceptedAnswerId    67.0\n",
            "dtype: float64\n"
          ]
        },
        {
          "output_type": "display_data",
          "data": {
            "image/png": "[encoded data removed]",
            "text/plain": [
              "<Figure size 1800x720 with 1 Axes>"
            ]
          },
          "metadata": {
            "needs_background": "light"
          }
        }
      ]
    },
    {
      "cell_type": "markdown",
      "source": [
        "From their website, each column roughly means the following:\n",
        "* __Id__: An identification number for the post.\n",
        "* __CreationDate__: The date and time of creation of the post.\n",
        "* __Score__: The post's score.\n",
        "* __ViewCount__: How many times the post was viewed.\n",
        "* __Tags__: What tags were used.\n",
        "* __AnswerCount__: How many answers the question got (only applicable to question posts).\n",
        "* __FavoriteCount__: How many times the question was favored (only applicable to question posts).\n",
        "\n",
        "The __Tags__ column will be critical for our analysis, as it tells us subjectively what each post is about. We will have to find a way to parse out the tags for each post, of which there can be none or several. \n",
        "\n",
        "The __Score__, __ViewCount__, __AnswerCount__, and __FavoriteCount__ columns will give us engagement metrics.\n",
        "\n",
        "The __CreationDate__ column will give us a sense of any seasonality."
      ],
      "metadata": {
        "id": "k-I03JaYY52b"
      }
    },
    {
      "cell_type": "markdown",
      "source": [
        "## Data cleaning"
      ],
      "metadata": {
        "id": "HtmeOZfgZOdL"
      }
    },
    {
      "cell_type": "code",
      "source": [
        "# Check missing values in FavoriteCount\n",
        "StackExchange['FavoriteCount'].value_counts(dropna=False).sort_index(ascending=False)"
      ],
      "metadata": {
        "colab": {
          "base_uri": "https://localhost:8080/"
        },
        "id": "zTTYOaZxaZDd",
        "outputId": "c28f9422-b004-4ee6-cb5f-f729b062dd46"
      },
      "execution_count": 6,
      "outputs": [
        {
          "output_type": "execute_result",
          "data": {
            "text/plain": [
              "15.0       1\n",
              "14.0       1\n",
              "12.0       1\n",
              "9.0        1\n",
              "8.0        3\n",
              "7.0        3\n",
              "6.0        7\n",
              "5.0        8\n",
              "4.0       12\n",
              "3.0       37\n",
              "2.0      134\n",
              "1.0      738\n",
              "0.0      113\n",
              "NaN     5096\n",
              "Name: FavoriteCount, dtype: int64"
            ]
          },
          "metadata": {},
          "execution_count": 6
        }
      ]
    },
    {
      "cell_type": "code",
      "source": [
        "# Drop the Accepeted Answer ID column\n",
        "# Dropping the column \n",
        "StackExchange = StackExchange.drop(['AcceptedAnswerId'], axis=1)"
      ],
      "metadata": {
        "id": "Y4idf_e0tM9d"
      },
      "execution_count": 7,
      "outputs": []
    },
    {
      "cell_type": "code",
      "source": [
        "# Fill the missing values with 0\n",
        "StackExchange[\"FavoriteCount\"].fillna(0,inplace = True)"
      ],
      "metadata": {
        "id": "r7fa8Lb5YCe-"
      },
      "execution_count": 8,
      "outputs": []
    },
    {
      "cell_type": "code",
      "source": [
        "# Check the changes\n",
        "StackExchange['FavoriteCount'].value_counts(dropna=False).sort_index(ascending=False)\n",
        "# 23945 + 582 = 24527"
      ],
      "metadata": {
        "colab": {
          "base_uri": "https://localhost:8080/"
        },
        "id": "axhMurhSZ-uf",
        "outputId": "c3320fdb-3b56-43e2-b4a1-f84a9cf9ae1e"
      },
      "execution_count": 9,
      "outputs": [
        {
          "output_type": "execute_result",
          "data": {
            "text/plain": [
              "15.0       1\n",
              "14.0       1\n",
              "12.0       1\n",
              "9.0        1\n",
              "8.0        3\n",
              "7.0        3\n",
              "6.0        7\n",
              "5.0        8\n",
              "4.0       12\n",
              "3.0       37\n",
              "2.0      134\n",
              "1.0      738\n",
              "0.0     5209\n",
              "Name: FavoriteCount, dtype: int64"
            ]
          },
          "metadata": {},
          "execution_count": 9
        }
      ]
    },
    {
      "cell_type": "code",
      "source": [
        "#Set the types of each column \n",
        "StackExchange[\"FavoriteCount\"] = StackExchange[\"FavoriteCount\"].astype(int)\n",
        "StackExchange[\"CreationDate\"] = pd.to_datetime(StackExchange[\"CreationDate\"])\n",
        "StackExchange.info()\n",
        "StackExchange[\"Tags\"].head()"
      ],
      "metadata": {
        "colab": {
          "base_uri": "https://localhost:8080/"
        },
        "id": "5nupolTBaINE",
        "outputId": "4e0438de-d4a1-4e55-bb2c-56a9828e5836"
      },
      "execution_count": 10,
      "outputs": [
        {
          "output_type": "stream",
          "name": "stdout",
          "text": [
            "<class 'pandas.core.frame.DataFrame'>\n",
            "RangeIndex: 6155 entries, 0 to 6154\n",
            "Data columns (total 7 columns):\n",
            " #   Column         Non-Null Count  Dtype         \n",
            "---  ------         --------------  -----         \n",
            " 0   Id             6155 non-null   int64         \n",
            " 1   CreationDate   6155 non-null   datetime64[ns]\n",
            " 2   Score          6155 non-null   int64         \n",
            " 3   ViewCount      6155 non-null   int64         \n",
            " 4   Tags           6155 non-null   object        \n",
            " 5   AnswerCount    6155 non-null   int64         \n",
            " 6   FavoriteCount  6155 non-null   int64         \n",
            "dtypes: datetime64[ns](1), int64(5), object(1)\n",
            "memory usage: 336.7+ KB\n"
          ]
        },
        {
          "output_type": "execute_result",
          "data": {
            "text/plain": [
              "0                <classification><supervised-learning>\n",
              "1                              <clustering><imbalance>\n",
              "2    <machine-learning><classification><dataset><fe...\n",
              "3                             <nlp><bert><transformer>\n",
              "4                  <machine-learning><r><bootstraping>\n",
              "Name: Tags, dtype: object"
            ]
          },
          "metadata": {},
          "execution_count": 10
        }
      ]
    },
    {
      "cell_type": "markdown",
      "source": [
        "The __Tags data__ should be converted to a __string__ format that is conducive to analysis techniques. We will change from <tag> to comma separated values so we can use list manipulation techniques."
      ],
      "metadata": {
        "id": "-MC-0wtmcAE4"
      }
    },
    {
      "cell_type": "code",
      "source": [
        "#Clean the Tags column and assign it back to itself\n",
        "StackExchange[\"Tags\"] = StackExchange[\"Tags\"].str.replace(\"^<\",\"\").str.replace(\">$\",\"\").str.split(\"><\")\n",
        "StackExchange[\"Tags\"].head()"
      ],
      "metadata": {
        "colab": {
          "base_uri": "https://localhost:8080/"
        },
        "id": "4oEsMhGNbLdf",
        "outputId": "cc88ba91-1db5-4129-aa4e-24e91b426102"
      },
      "execution_count": 11,
      "outputs": [
        {
          "output_type": "stream",
          "name": "stderr",
          "text": [
            "/usr/local/lib/python3.7/dist-packages/ipykernel_launcher.py:2: FutureWarning: The default value of regex will change from True to False in a future version.\n",
            "  \n"
          ]
        },
        {
          "output_type": "execute_result",
          "data": {
            "text/plain": [
              "0                [classification, supervised-learning]\n",
              "1                              [clustering, imbalance]\n",
              "2    [machine-learning, classification, dataset, fe...\n",
              "3                             [nlp, bert, transformer]\n",
              "4                  [machine-learning, r, bootstraping]\n",
              "Name: Tags, dtype: object"
            ]
          },
          "metadata": {},
          "execution_count": 11
        }
      ]
    },
    {
      "cell_type": "markdown",
      "source": [
        "## Exploring the most popular tags\n"
      ],
      "metadata": {
        "id": "r88bIgbhwd8D"
      }
    },
    {
      "cell_type": "code",
      "source": [
        "#Count how many times each tag was used.\n",
        "tag_count = dict()\n",
        "for tags in StackExchange[\"Tags\"]:\n",
        "    for tag in tags:\n",
        "        if tag in tag_count:\n",
        "            tag_count[tag] += 1\n",
        "        else:\n",
        "            tag_count[tag] = 1\n",
        "\n",
        "print(tag_count)"
      ],
      "metadata": {
        "colab": {
          "base_uri": "https://localhost:8080/"
        },
        "id": "-KjWZyskcMKm",
        "outputId": "7593401b-87d4-491e-9009-48626b76fb41"
      },
      "execution_count": 12,
      "outputs": [
        {
          "output_type": "stream",
          "name": "stdout",
          "text": [
            "{'classification': 542, 'supervised-learning': 60, 'clustering': 211, 'imbalance': 4, 'machine-learning': 1887, 'dataset': 246, 'feature-selection': 171, 'audio-recognition': 17, 'nlp': 496, 'bert': 81, 'transformer': 73, 'r': 191, 'bootstraping': 7, 'word-embeddings': 91, 'sentiment-analysis': 41, 'neural-network': 704, 'keras': 549, 'time-series': 292, 'prediction': 85, 'forecasting': 71, 'word2vec': 52, 'embeddings': 40, 'representation': 14, 'deep-learning': 841, 'cnn': 282, 'loss-function': 114, 'regression': 310, 'statistics': 209, 'visualization': 103, 'predictive-modeling': 177, 'linear-regression': 142, 'correlation': 80, 'collinearity': 10, 'rnn': 128, 'probability-calibration': 13, 'python': 1205, 'random-forest': 174, 'distributed': 3, 'tokenization': 14, 'hashingvectorizer': 2, 'data-mining': 127, 'feature-engineering': 120, 'recommender-system': 73, 'ranking': 28, 'ndcg': 3, 'data-analysis': 64, 'scikit-learn': 438, 'k-means': 80, 'probability': 62, 'density-estimation': 3, 'image-classification': 140, 'transfer-learning': 41, 'lstm': 235, 'data-science-model': 126, 'tensorflow': 451, 'accuracy': 80, 'overfitting': 95, 'sequence': 29, 'machine-learning-model': 156, 'class-imbalance': 109, 'mini-batch-gradient-descent': 16, 'binary': 22, 'xgboost': 149, 'matplotlib': 49, 'similarity': 37, 'distance': 9, 'data': 146, 'api': 4, 'training': 150, 'text-mining': 67, 'speech-to-text': 14, 'reshape': 10, 'arima': 12, 'missing-data': 32, 'data-imputation': 25, 'logistic-regression': 120, 'svm': 99, 'mathematics': 54, 'named-entity-recognition': 33, 'naive-bayes-classifier': 43, 'python-3.x': 109, 'web-scraping': 11, 'softmax': 7, 'evaluation': 58, 'performance': 26, 'metric': 56, 'cross-validation': 142, 'grid-search': 32, 'pandas': 241, 'kaggle': 19, 'classifier': 10, 'data-cleaning': 125, 'dataframe': 73, 'preprocessing': 93, 'counts': 4, 'ensemble-modeling': 42, 'ab-test': 11, 'permutation-test': 2, 'hypothesis-testing': 5, 'optimization': 85, 'backpropagation': 52, 'activation-function': 40, 'decision-trees': 146, 'algorithms': 54, 'weka': 8, 'regex': 9, 'image-recognition': 40, 'image-preprocessing': 51, 'fastai': 6, 'gradient-descent': 104, 'gaussian': 14, 'expectation-maximization': 3, 'gmm': 1, 'attention-mechanism': 38, 'vector-space-models': 7, 'bigdata': 35, 'pytorch': 132, 'plotting': 28, 'autoencoder': 61, 'encoding': 34, 'gensim': 11, 'regularization': 37, 'graphs': 38, 'scipy': 16, 'spectral-clustering': 6, 'smote': 22, 'unsupervised-learning': 90, 'terminology': 13, 'linear-algebra': 21, 'education': 2, 'derivation': 7, 'groupby': 13, 'text-classification': 97, 'genetic-algorithms': 11, 'numpy': 73, 'vc-theory': 4, 'convolution': 68, 'score': 7, 'matrix': 20, 'boosting': 30, 'natural-gradient-boosting': 9, 'ggplot2': 10, 'computer-vision': 113, 'outlier': 31, 'objective-function': 7, 'multiclass-classification': 92, 'ocr': 18, 'multilabel-classification': 61, 'model-selection': 46, 'tfidf': 28, 'interpretation': 20, 'interpolation': 3, 'lda': 22, 'gru': 11, 'feature-scaling': 56, 'gbm': 7, 'graph-neural-network': 9, 'distribution': 35, 'variance': 25, 'rstudio': 10, 'anaconda': 16, 'scoring': 14, 'metaheuristics': 3, 'categorical-data': 73, 'categorical-encoding': 34, 'jupyter': 29, 'ipython': 5, 'json': 5, 'kernel': 19, 'gan': 49, 'manifold': 1, 'map-reduce': 2, 'dummy-variables': 11, 'implementation': 33, 'code': 3, 'feature-extraction': 57, 'dimensionality-reduction': 37, 'pca': 64, 'data-product': 4, 'object-detection': 94, 'normalization': 57, 'confusion-matrix': 40, 'convolutional-neural-network': 53, 'alex-net': 5, 'k-nn': 41, 'databases': 5, 'data-engineering': 13, 'etl': 2, 'image-segmentation': 31, 'semantic-segmentation': 8, 'one-hot-encoding': 46, 'historgram': 8, 'google-prediction-api': 1, 'cloud': 2, 'julia': 2, 'f1score': 25, 'gradient': 14, 'parameter-estimation': 6, 'chi-square-test': 6, 'adaboost': 16, 'orange': 15, 'orange3': 13, 'language-model': 20, 'automatic-summarization': 7, 'openai-gpt': 11, 'generative-models': 30, 'theory': 9, 'roc': 13, 'apache-spark': 22, 'pyspark': 16, 'anomaly-detection': 57, 'convergence': 6, 'sequence-to-sequence': 27, 'churn': 4, 'semi-supervised-learning': 6, 'sagemaker': 5, 'aggregation': 7, 'bagging': 10, 'parameter': 6, 'tsne': 8, 'bayesian-nonparametric': 1, 'feature-construction': 10, 'features': 29, 'machine-translation': 19, 'mnist': 18, 'explainable-ai': 27, 'gpu': 33, 'nvidia': 2, 'bias': 23, 'time': 10, 'data-leakage': 15, 'pipelines': 32, 'learning-rate': 11, 'torch': 5, 'yolo': 26, 'coursera': 5, 'image': 23, 'confidence': 8, 'cost-function': 7, 'corpus': 7, 'non-parametric': 8, 'reinforcement-learning': 87, 'fasttext': 6, 'colab': 12, 'difference': 4, 'text': 32, 'hashing-trick': 4, 'descriptive-statistics': 18, 'information-theory': 1, 'isolation-forest': 6, 'mlp': 17, 'gridsearchcv': 24, 'opencv': 26, 'privacy': 3, 'nltk': 18, 'data-augmentation': 29, 'inceptionresnetv2': 6, 'labels': 17, 'seaborn': 18, 'simulation': 5, 'monte-carlo': 4, 'inference': 2, 'powerbi': 6, 'neural': 6, 'bayesian-networks': 5, 'auc': 23, 'batch-normalization': 6, 'context-vector': 1, 'q-learning': 14, 'sampling': 44, 'shap': 15, 'catboost': 8, 'knowledge-graph': 3, 'reference-request': 8, 'sequential-pattern-mining': 11, 'tableau': 7, 'policy-gradients': 7, 'version-control': 3, 'books': 6, 'pearsons-correlation-coefficient': 10, 'weight-initialization': 13, 'epochs': 9, 'cosine-distance': 18, 'neural-style-transfer': 3, 'lightgbm': 22, 'research': 10, 'mutual-information': 3, 'naive-bayes-algorithim': 3, 'self-study': 6, 'heatmap': 10, 'windows': 3, 'error-handling': 5, 'pattern-recognition': 15, 'grammar-inference': 1, 'hyperparameter': 28, 'dbscan': 15, 'semantic-similarity': 17, 'spacy': 19, 'active-learning': 10, 'marketing': 7, 'multi-output': 10, 'text-generation': 14, 'bart': 2, 'pretraining': 6, 'stata': 1, 'hyperparameter-tuning': 62, 'multivariate-distribution': 21, 'noisification': 1, 'game': 3, 'weighted-data': 11, 'social-network-analysis': 8, 'anova': 5, 'exploratory-factor-analysis': 4, 'vgg16': 7, 'matrix-factorisation': 10, 'field-aware-factorization-machines': 2, 'linearly-separable': 5, 'normal-equation': 1, 'partial-dependence-plot': 1, 'library': 2, 'bayesian': 21, 'sparse': 10, 'javascript': 4, 'ensemble': 11, 'hierarchical-data-format': 2, 'dqn': 14, 'pickle': 6, 'object-recognition': 6, 'association-rules': 13, 'mse': 14, 'csv': 15, 'parsing': 4, 'parallel': 4, 'beginner': 9, 'imbalanced-learn': 15, 'pytorch-geometric': 4, 'svr': 3, 'ann': 5, 'gaussian-process': 8, 'finance': 10, 'ensemble-learning': 9, 'ridge-regression': 10, 'dropout': 8, 'ai': 18, 'vae': 10, 'faster-rcnn': 9, 'forecast': 9, 'plotly': 6, 'estimation': 4, 'similar-documents': 12, 'doc2vec': 9, 'discounted-reward': 2, 'geospatial': 11, 'scala': 2, 'rbm': 1, 'cart': 7, 'data-wrangling': 8, 'boruta': 2, 'lasso': 9, 'poisson': 3, 'markov-process': 9, 'markov-hidden-model': 9, 'bag-of-words': 11, 'elastic-net': 4, 'predictor-importance': 10, 'word': 4, 'document-term-matrix': 3, 'topic-model': 17, 'stanford-nlp': 7, 'c++': 1, 'inception': 6, 'aws': 7, 'cause-and-effect': 1, 'statsmodels': 18, 'loss': 5, 'finetuning': 7, 'target-encoding': 6, 'apache-hadoop': 7, 'rmse': 9, 'indexing': 3, 'data-indexing-techniques': 2, 'information-extraction': 5, 'spyder': 3, 'generalization': 9, 'meta-learning': 3, 'stacking': 1, 'predict': 9, 'azure-ml': 9, 'text-filter': 4, 'twitter': 2, 'learning': 9, 'question-answering': 9, 'huggingface': 7, 'excel': 11, 'jaccard-coefficient': 5, 'normal': 2, 'mean': 3, 'google-cloud-platform': 1, 'early-stopping': 5, 'rfe': 2, 'matlab': 14, 'survival-analysis': 7, 'one-shot-learning': 3, 'google-cloud': 7, 'google-bigquery': 2, 'pac-learning': 2, 'automation': 2, 'perceptron': 14, 'sgd': 3, 'siamese-networks': 9, 'ngrams': 8, 'spearmans-rank-correlation': 3, 'cuda': 5, 'lime': 4, 'multitask-learning': 4, '3d-object-detection': 2, 'software-development': 1, 'annotation': 7, 'fuzzy-logic': 4, 'genetic-programming': 2, 'openai-gym': 10, 'networkx': 3, 'anonymization': 2, 'federated-learning': 1, 'momentum': 2, 'estimators': 3, 'methodology': 3, 'concept-drift': 1, 'pruning': 3, 'community': 1, 'knowledge-base': 4, 'methods': 3, 'scalability': 3, 'efficiency': 3, 'cloud-computing': 3, 'anomaly': 1, 'sql': 15, 'validation': 7, 'google': 8, 'glm': 7, 'learning-to-rank': 6, 'programming': 1, 'wolfram-language': 1, 'dirichlet': 1, 'labelling': 6, 'experiments': 7, 'graphical-model': 2, 'information-retrieval': 11, 'tools': 6, 'google-data-studio': 2, 'sas': 2, 'feature-reduction': 4, 'usecase': 2, 'pooling': 6, 'movielens': 2, 'stacked-lstm': 2, 'search': 9, 'encoder': 8, 'history': 1, 'mlflow': 2, 'mlops': 1, 'self-driving': 3, 'data-formats': 3, 'sparsity': 2, 'document-understanding': 2, 'spatial-transformer': 1, 'metadata': 1, 'image-size': 1, 'discriminant-analysis': 7, 'hardware': 6, 'automl': 4, 'goodness-of-fit': 1, 'r-squared': 1, 'entity-linking': 1, 'dynamic-time-warping': 1, 'sports': 2, 'partial-least-squares': 3, 'octave': 4, 'chatbot': 2, '.net': 1, 'wikipedia': 1, 'kendalls-tau-coefficient': 2, 'nlg': 1, 'bar-chart': 1, 'project-planning': 1, 'management': 3, 'deepmind': 2, 'dynamic-programming': 2, 'definitions': 4, 'pip': 3, 'hive': 4, 'lsi': 3, 'bioinformatics': 6, 'dplyr': 7, 'data-table': 2, 'online-learning': 4, 'randomized-algorithms': 4, 'software-recommendation': 3, 'c': 3, 'career': 4, 'structural-equation-modelling': 3, 'ngboost': 1, 'linear-programming': 2, 'actor-critic': 4, 'keras-rl': 1, 'finite-precision': 2, 'numerical': 1, 'fuzzy-classification': 1, 'microstrategy': 1, 'knime': 2, 'rbf': 2, 'nosql': 2, 'market-basket-analysis': 3, 'java': 1, 'financial-analysis': 1, 'mxnet': 2, 'tpu': 1, 'competitions': 1, 'noise': 3, 'tesseract': 1, 'sensors': 3, '3d-reconstruction': 1, 'mongodb': 1, 'libsvm': 2, 'scraping': 1, 'domain-adaptation': 1, 'neo4j': 1, 'evolutionary-algorithms': 3, 'stop-word': 1, 'smotenc': 3, 'h2o': 1, 'homework': 1, 'mean-shift': 1, 'bokeh': 1, 'allennlp': 1, 'esl': 2, 'least-squares-svm': 1, 'structured-data': 2, 'activity-recognition': 1, 'linux': 1, 'hog': 1, 'processing': 1, 'data-stream-mining': 1, 'functional-api': 3, 'gnn': 2, 'search-engine': 1, 'state-of-the-art': 1, 'causalimpact': 3, 'notation': 3, 'graphviz': 1, 'genetic': 1, 'theano': 1, 'multi-instance-learning': 1, 'serialisation': 1, 'hinge-loss': 1, 'open-source': 1, 'lda-classifier': 1}\n"
          ]
        }
      ]
    },
    {
      "cell_type": "code",
      "source": [
        "#converts dictionary into a DataFrame         \n",
        "tag_count_df = pd.DataFrame.from_dict(tag_count, orient = \"index\").reset_index()\n",
        "tag_count_df.columns = ['Tag', \"Counts\"]\n",
        "tag_count_df.head()\n",
        "\n",
        "#sort values in ascending mode\n",
        "most_used_tags = tag_count_df.sort_values(\"Counts\", ascending = False ).head(20)\n",
        "most_used_tags.info()"
      ],
      "metadata": {
        "colab": {
          "base_uri": "https://localhost:8080/"
        },
        "id": "CrLjXlo4d_43",
        "outputId": "e726be1a-224d-483c-8e04-b93c17741d49"
      },
      "execution_count": 13,
      "outputs": [
        {
          "output_type": "stream",
          "name": "stdout",
          "text": [
            "<class 'pandas.core.frame.DataFrame'>\n",
            "Int64Index: 20 entries, 4 to 36\n",
            "Data columns (total 2 columns):\n",
            " #   Column  Non-Null Count  Dtype \n",
            "---  ------  --------------  ----- \n",
            " 0   Tag     20 non-null     object\n",
            " 1   Counts  20 non-null     int64 \n",
            "dtypes: int64(1), object(1)\n",
            "memory usage: 480.0+ bytes\n"
          ]
        }
      ]
    },
    {
      "cell_type": "code",
      "source": [
        "#Create visualization for most used tags\n",
        "ax = most_used_tags.plot.barh()\n",
        "ax.invert_yaxis()\n",
        "plt.show()"
      ],
      "metadata": {
        "colab": {
          "base_uri": "https://localhost:8080/",
          "height": 0
        },
        "id": "hf84nWnOeXtG",
        "outputId": "6b890ab7-1e22-4487-9561-09fe0309158c"
      },
      "execution_count": 14,
      "outputs": [
        {
          "output_type": "display_data",
          "data": {
            "image/png": "[encoded data removed]",
            "text/plain": [
              "<Figure size 432x288 with 1 Axes>"
            ]
          },
          "metadata": {
            "needs_background": "light"
          }
        }
      ]
    },
    {
      "cell_type": "code",
      "source": [
        "#Count how many times each tag was viewed\n",
        "tag_views = dict()\n",
        "# iterrows allows us to loop through each row in a dataframe\n",
        "for index, row in StackExchange.iterrows():\n",
        "  # loop through the list of each row\n",
        "    for tag in row[\"Tags\"]:\n",
        "        if tag in tag_views:\n",
        "            tag_views[tag] += row[\"ViewCount\"]\n",
        "        else:\n",
        "            tag_views[tag] = row[\"ViewCount\"]\n",
        "\n",
        "#converts dictionary into a DataFrame         \n",
        "tag_views_df = pd.DataFrame.from_dict(tag_views, orient = \"index\").reset_index() \n",
        "tag_views_df.columns = ['Tag', \"Views\"]\n",
        "tag_views_df.head()\n",
        "print(tag_views_df)\n",
        "\n",
        "#sort values in ascending mode\n",
        "most_viewed_tags = tag_views_df.sort_values(\"Views\", ascending = False ).head(20)\n",
        "most_viewed_tags.info()"
      ],
      "metadata": {
        "colab": {
          "base_uri": "https://localhost:8080/"
        },
        "id": "8Hw3rA35fSIe",
        "outputId": "1a6e1fa1-8d6c-4c76-8e65-d79b90c18a36"
      },
      "execution_count": 15,
      "outputs": [
        {
          "output_type": "stream",
          "name": "stdout",
          "text": [
            "                         Tag   Views\n",
            "0             classification  185717\n",
            "1        supervised-learning   16957\n",
            "2                 clustering   64525\n",
            "3                  imbalance    2027\n",
            "4           machine-learning  744143\n",
            "..                       ...     ...\n",
            "552  multi-instance-learning      32\n",
            "553            serialisation      29\n",
            "554               hinge-loss     705\n",
            "555              open-source      54\n",
            "556           lda-classifier      34\n",
            "\n",
            "[557 rows x 2 columns]\n",
            "<class 'pandas.core.frame.DataFrame'>\n",
            "Int64Index: 20 entries, 35 to 26\n",
            "Data columns (total 2 columns):\n",
            " #   Column  Non-Null Count  Dtype \n",
            "---  ------  --------------  ----- \n",
            " 0   Tag     20 non-null     object\n",
            " 1   Views   20 non-null     int64 \n",
            "dtypes: int64(1), object(1)\n",
            "memory usage: 480.0+ bytes\n"
          ]
        }
      ]
    },
    {
      "cell_type": "code",
      "source": [
        "#Create visualization for most viewed tags\n",
        "ax2 = most_viewed_tags.plot.barh()\n",
        "ax2.invert_yaxis()\n",
        "plt.show()"
      ],
      "metadata": {
        "colab": {
          "base_uri": "https://localhost:8080/",
          "height": 0
        },
        "id": "5QA2PZmAiBmV",
        "outputId": "f3ffc31a-c669-4ffa-f595-21351c5fb1ad"
      },
      "execution_count": 16,
      "outputs": [
        {
          "output_type": "display_data",
          "data": {
            "image/png": "[encoded data removed]",
            "text/plain": [
              "<Figure size 432x288 with 1 Axes>"
            ]
          },
          "metadata": {
            "needs_background": "light"
          }
        }
      ]
    },
    {
      "cell_type": "markdown",
      "source": [
        "It will be useful indicator of popularity for us to know which tags are present in both the top 20 usage count and view count dataframes. Let's combine our dataframes to see which are in both and how they rank."
      ],
      "metadata": {
        "id": "9MouEiSTKuv1"
      }
    },
    {
      "cell_type": "code",
      "source": [
        "views_in_usage_count = pd.merge(left = most_used_tags, right = most_viewed_tags, how = 'left', left_index=True, right_index = True )\n",
        "usage_count_in_views = pd.merge(left = most_viewed_tags, right = most_used_tags, how = 'left', left_index=True, right_index = True)"
      ],
      "metadata": {
        "id": "3TxKX2yziNq5"
      },
      "execution_count": 17,
      "outputs": []
    },
    {
      "cell_type": "code",
      "source": [
        "print(views_in_usage_count)"
      ],
      "metadata": {
        "colab": {
          "base_uri": "https://localhost:8080/"
        },
        "id": "23P3sOY7L89d",
        "outputId": "ec61960a-7f79-4c2f-b86e-87303a05c436"
      },
      "execution_count": 18,
      "outputs": [
        {
          "output_type": "stream",
          "name": "stdout",
          "text": [
            "                  Tag_x  Counts             Tag_y     Views\n",
            "4      machine-learning    1887  machine-learning  744143.0\n",
            "35               python    1205            python  829701.0\n",
            "23        deep-learning     841     deep-learning  339187.0\n",
            "15       neural-network     704    neural-network  291458.0\n",
            "16                keras     549             keras  503268.0\n",
            "0        classification     542    classification  185717.0\n",
            "8                   nlp     496               nlp  222458.0\n",
            "54           tensorflow     451        tensorflow  343596.0\n",
            "46         scikit-learn     438      scikit-learn  332876.0\n",
            "26           regression     310        regression   91165.0\n",
            "17          time-series     292       time-series   97638.0\n",
            "24                  cnn     282               cnn  121466.0\n",
            "5               dataset     246           dataset  129686.0\n",
            "88               pandas     241            pandas  381982.0\n",
            "52                 lstm     235              lstm  127146.0\n",
            "2            clustering     211               NaN       NaN\n",
            "27           statistics     209               NaN       NaN\n",
            "11                    r     191                 r  105023.0\n",
            "29  predictive-modeling     177               NaN       NaN\n",
            "36        random-forest     174               NaN       NaN\n"
          ]
        }
      ]
    },
    {
      "cell_type": "code",
      "source": [
        "print(usage_count_in_views)"
      ],
      "metadata": {
        "colab": {
          "base_uri": "https://localhost:8080/"
        },
        "id": "q4fyLZcsNbVM",
        "outputId": "6c8cb728-3934-4634-f672-bec4b7600018"
      },
      "execution_count": 19,
      "outputs": [
        {
          "output_type": "stream",
          "name": "stdout",
          "text": [
            "               Tag_x   Views             Tag_y  Counts\n",
            "35            python  829701            python  1205.0\n",
            "4   machine-learning  744143  machine-learning  1887.0\n",
            "16             keras  503268             keras   549.0\n",
            "88            pandas  381982            pandas   241.0\n",
            "54        tensorflow  343596        tensorflow   451.0\n",
            "23     deep-learning  339187     deep-learning   841.0\n",
            "46      scikit-learn  332876      scikit-learn   438.0\n",
            "15    neural-network  291458    neural-network   704.0\n",
            "8                nlp  222458               nlp   496.0\n",
            "0     classification  185717    classification   542.0\n",
            "92         dataframe  139632               NaN     NaN\n",
            "5            dataset  129686           dataset   246.0\n",
            "52              lstm  127146              lstm   235.0\n",
            "80        python-3.x  122718               NaN     NaN\n",
            "24               cnn  121466               cnn   282.0\n",
            "25     loss-function  107395               NaN     NaN\n",
            "9               bert  105183               NaN     NaN\n",
            "11                 r  105023                 r   191.0\n",
            "17       time-series   97638       time-series   292.0\n",
            "26        regression   91165        regression   310.0\n"
          ]
        }
      ]
    },
    {
      "cell_type": "code",
      "source": [
        "dataframes_top20 = [\n",
        "                    most_used_tags, \n",
        "                    most_viewed_tags,\n",
        "                    ]\n",
        "top20_merged = reduce(lambda left,right: pd.merge(\n",
        "                                                  left,right,on=['Tag'],\n",
        "                                                  how='inner'), \n",
        "                                         dataframes_top20)\n",
        "print('Number of tags occured in all the TOP20 dataframes: ', \n",
        "      len(top20_merged))\n",
        "top20_merged"
      ],
      "metadata": {
        "colab": {
          "base_uri": "https://localhost:8080/",
          "height": 0
        },
        "id": "3Ki86kZ9Nehp",
        "outputId": "eba63547-46c2-481f-d5cd-b6fc2f260254"
      },
      "execution_count": 20,
      "outputs": [
        {
          "output_type": "stream",
          "name": "stdout",
          "text": [
            "Number of tags occured in all the TOP20 dataframes:  16\n"
          ]
        },
        {
          "output_type": "execute_result",
          "data": {
            "text/html": [
              "\n",
              "  <div id=\"df-d8201f66-278e-41e7-9d7e-62e3db1992c1\">\n",
              "    <div class=\"colab-df-container\">\n",
              "      <div>\n",
              "<style scoped>\n",
              "    .dataframe tbody tr th:only-of-type {\n",
              "        vertical-align: middle;\n",
              "    }\n",
              "\n",
              "    .dataframe tbody tr th {\n",
              "        vertical-align: top;\n",
              "    }\n",
              "\n",
              "    .dataframe thead th {\n",
              "        text-align: right;\n",
              "    }\n",
              "</style>\n",
              "<table border=\"1\" class=\"dataframe\">\n",
              "  <thead>\n",
              "    <tr style=\"text-align: right;\">\n",
              "      <th></th>\n",
              "      <th>Tag</th>\n",
              "      <th>Counts</th>\n",
              "      <th>Views</th>\n",
              "    </tr>\n",
              "  </thead>\n",
              "  <tbody>\n",
              "    <tr>\n",
              "      <th>0</th>\n",
              "      <td>machine-learning</td>\n",
              "      <td>1887</td>\n",
              "      <td>744143</td>\n",
              "    </tr>\n",
              "    <tr>\n",
              "      <th>1</th>\n",
              "      <td>python</td>\n",
              "      <td>1205</td>\n",
              "      <td>829701</td>\n",
              "    </tr>\n",
              "    <tr>\n",
              "      <th>2</th>\n",
              "      <td>deep-learning</td>\n",
              "      <td>841</td>\n",
              "      <td>339187</td>\n",
              "    </tr>\n",
              "    <tr>\n",
              "      <th>3</th>\n",
              "      <td>neural-network</td>\n",
              "      <td>704</td>\n",
              "      <td>291458</td>\n",
              "    </tr>\n",
              "    <tr>\n",
              "      <th>4</th>\n",
              "      <td>keras</td>\n",
              "      <td>549</td>\n",
              "      <td>503268</td>\n",
              "    </tr>\n",
              "    <tr>\n",
              "      <th>5</th>\n",
              "      <td>classification</td>\n",
              "      <td>542</td>\n",
              "      <td>185717</td>\n",
              "    </tr>\n",
              "    <tr>\n",
              "      <th>6</th>\n",
              "      <td>nlp</td>\n",
              "      <td>496</td>\n",
              "      <td>222458</td>\n",
              "    </tr>\n",
              "    <tr>\n",
              "      <th>7</th>\n",
              "      <td>tensorflow</td>\n",
              "      <td>451</td>\n",
              "      <td>343596</td>\n",
              "    </tr>\n",
              "    <tr>\n",
              "      <th>8</th>\n",
              "      <td>scikit-learn</td>\n",
              "      <td>438</td>\n",
              "      <td>332876</td>\n",
              "    </tr>\n",
              "    <tr>\n",
              "      <th>9</th>\n",
              "      <td>regression</td>\n",
              "      <td>310</td>\n",
              "      <td>91165</td>\n",
              "    </tr>\n",
              "    <tr>\n",
              "      <th>10</th>\n",
              "      <td>time-series</td>\n",
              "      <td>292</td>\n",
              "      <td>97638</td>\n",
              "    </tr>\n",
              "    <tr>\n",
              "      <th>11</th>\n",
              "      <td>cnn</td>\n",
              "      <td>282</td>\n",
              "      <td>121466</td>\n",
              "    </tr>\n",
              "    <tr>\n",
              "      <th>12</th>\n",
              "      <td>dataset</td>\n",
              "      <td>246</td>\n",
              "      <td>129686</td>\n",
              "    </tr>\n",
              "    <tr>\n",
              "      <th>13</th>\n",
              "      <td>pandas</td>\n",
              "      <td>241</td>\n",
              "      <td>381982</td>\n",
              "    </tr>\n",
              "    <tr>\n",
              "      <th>14</th>\n",
              "      <td>lstm</td>\n",
              "      <td>235</td>\n",
              "      <td>127146</td>\n",
              "    </tr>\n",
              "    <tr>\n",
              "      <th>15</th>\n",
              "      <td>r</td>\n",
              "      <td>191</td>\n",
              "      <td>105023</td>\n",
              "    </tr>\n",
              "  </tbody>\n",
              "</table>\n",
              "</div>\n",
              "      <button class=\"colab-df-convert\" onclick=\"convertToInteractive('df-d8201f66-278e-41e7-9d7e-62e3db1992c1')\"\n",
              "              title=\"Convert this dataframe to an interactive table.\"\n",
              "              style=\"display:none;\">\n",
              "        \n",
              "  <svg xmlns=\"http://www.w3.org/2000/svg\" height=\"24px\"viewBox=\"0 0 24 24\"\n",
              "       width=\"24px\">\n",
              "    <path d=\"M0 0h24v24H0V0z\" fill=\"none\"/>\n",
              "    <path d=\"M18.56 5.44l.94 2.06.94-2.06 2.06-.94-2.06-.94-.94-2.06-.94 2.06-2.06.94zm-11 1L8.5 8.5l.94-2.06 2.06-.94-2.06-.94L8.5 2.5l-.94 2.06-2.06.94zm10 10l.94 2.06.94-2.06 2.06-.94-2.06-.94-.94-2.06-.94 2.06-2.06.94z\"/><path d=\"M17.41 7.96l-1.37-1.37c-.4-.4-.92-.59-1.43-.59-.52 0-1.04.2-1.43.59L10.3 9.45l-7.72 7.72c-.78.78-.78 2.05 0 2.83L4 21.41c.39.39.9.59 1.41.59.51 0 1.02-.2 1.41-.59l7.78-7.78 2.81-2.81c.8-.78.8-2.07 0-2.86zM5.41 20L4 18.59l7.72-7.72 1.47 1.35L5.41 20z\"/>\n",
              "  </svg>\n",
              "      </button>\n",
              "      \n",
              "  <style>\n",
              "    .colab-df-container {\n",
              "      display:flex;\n",
              "      flex-wrap:wrap;\n",
              "      gap: 12px;\n",
              "    }\n",
              "\n",
              "    .colab-df-convert {\n",
              "      background-color: #E8F0FE;\n",
              "      border: none;\n",
              "      border-radius: 50%;\n",
              "      cursor: pointer;\n",
              "      display: none;\n",
              "      fill: #1967D2;\n",
              "      height: 32px;\n",
              "      padding: 0 0 0 0;\n",
              "      width: 32px;\n",
              "    }\n",
              "\n",
              "    .colab-df-convert:hover {\n",
              "      background-color: #E2EBFA;\n",
              "      box-shadow: 0px 1px 2px rgba(60, 64, 67, 0.3), 0px 1px 3px 1px rgba(60, 64, 67, 0.15);\n",
              "      fill: #174EA6;\n",
              "    }\n",
              "\n",
              "    [theme=dark] .colab-df-convert {\n",
              "      background-color: #3B4455;\n",
              "      fill: #D2E3FC;\n",
              "    }\n",
              "\n",
              "    [theme=dark] .colab-df-convert:hover {\n",
              "      background-color: #434B5C;\n",
              "      box-shadow: 0px 1px 3px 1px rgba(0, 0, 0, 0.15);\n",
              "      filter: drop-shadow(0px 1px 2px rgba(0, 0, 0, 0.3));\n",
              "      fill: #FFFFFF;\n",
              "    }\n",
              "  </style>\n",
              "\n",
              "      <script>\n",
              "        const buttonEl =\n",
              "          document.querySelector('#df-d8201f66-278e-41e7-9d7e-62e3db1992c1 button.colab-df-convert');\n",
              "        buttonEl.style.display =\n",
              "          google.colab.kernel.accessAllowed ? 'block' : 'none';\n",
              "\n",
              "        async function convertToInteractive(key) {\n",
              "          const element = document.querySelector('#df-d8201f66-278e-41e7-9d7e-62e3db1992c1');\n",
              "          const dataTable =\n",
              "            await google.colab.kernel.invokeFunction('convertToInteractive',\n",
              "                                                     [key], {});\n",
              "          if (!dataTable) return;\n",
              "\n",
              "          const docLinkHtml = 'Like what you see? Visit the ' +\n",
              "            '<a target=\"_blank\" href=https://colab.research.google.com/notebooks/data_table.ipynb>data table notebook</a>'\n",
              "            + ' to learn more about interactive tables.';\n",
              "          element.innerHTML = '';\n",
              "          dataTable['output_type'] = 'display_data';\n",
              "          await google.colab.output.renderOutput(dataTable, element);\n",
              "          const docLink = document.createElement('div');\n",
              "          docLink.innerHTML = docLinkHtml;\n",
              "          element.appendChild(docLink);\n",
              "        }\n",
              "      </script>\n",
              "    </div>\n",
              "  </div>\n",
              "  "
            ],
            "text/plain": [
              "                 Tag  Counts   Views\n",
              "0   machine-learning    1887  744143\n",
              "1             python    1205  829701\n",
              "2      deep-learning     841  339187\n",
              "3     neural-network     704  291458\n",
              "4              keras     549  503268\n",
              "5     classification     542  185717\n",
              "6                nlp     496  222458\n",
              "7         tensorflow     451  343596\n",
              "8       scikit-learn     438  332876\n",
              "9         regression     310   91165\n",
              "10       time-series     292   97638\n",
              "11               cnn     282  121466\n",
              "12           dataset     246  129686\n",
              "13            pandas     241  381982\n",
              "14              lstm     235  127146\n",
              "15                 r     191  105023"
            ]
          },
          "metadata": {},
          "execution_count": 20
        }
      ]
    },
    {
      "cell_type": "markdown",
      "source": [
        "Hence, in all the TOP20 dataframes, there are 16 out of 20 tags in common. We're going to plot these 16 most popular tags together with the corresponding values of their popularuty measures, but since they all have quite different ranges, it's necessary to __normalize__ them first. "
      ],
      "metadata": {
        "id": "lyZFxRAFXDTK"
      }
    },
    {
      "cell_type": "code",
      "source": [
        "top20_merged_normalized = top20_merged.copy()\n",
        "columns = top20_merged_normalized.columns.tolist()[1:]\n",
        "for column in columns:\n",
        "    top20_merged_normalized[column] =\\\n",
        "    top20_merged_normalized[column] / top20_merged_normalized[column].abs().max() \n",
        "  \n",
        "print(top20_merged_normalized)"
      ],
      "metadata": {
        "colab": {
          "base_uri": "https://localhost:8080/"
        },
        "id": "p5P0kPa0TchX",
        "outputId": "edfa15ac-b06e-412b-889f-864b7a4de5b3"
      },
      "execution_count": 21,
      "outputs": [
        {
          "output_type": "stream",
          "name": "stdout",
          "text": [
            "                 Tag    Counts     Views\n",
            "0   machine-learning  1.000000  0.896881\n",
            "1             python  0.638580  1.000000\n",
            "2      deep-learning  0.445681  0.408806\n",
            "3     neural-network  0.373079  0.351281\n",
            "4              keras  0.290938  0.606565\n",
            "5     classification  0.287228  0.223836\n",
            "6                nlp  0.262851  0.268118\n",
            "7         tensorflow  0.239004  0.414120\n",
            "8       scikit-learn  0.232114  0.401200\n",
            "9         regression  0.164282  0.109877\n",
            "10       time-series  0.154743  0.117679\n",
            "11               cnn  0.149444  0.146397\n",
            "12           dataset  0.130366  0.156305\n",
            "13            pandas  0.127716  0.460385\n",
            "14              lstm  0.124536  0.153243\n",
            "15                 r  0.101219  0.126579\n"
          ]
        }
      ]
    },
    {
      "cell_type": "code",
      "source": [
        "# Creating a melted dataframe from the merged dataframe for further plotting\n",
        "top20_melted = pd.melt(\n",
        "                       top20_merged_normalized, \n",
        "                       id_vars=['Tag'], \n",
        "                       value_vars=columns\n",
        "                       )\n",
        "\n",
        "# Renaming columns\n",
        "top20_melted.columns = ['Tag', 'PopularityMeasure', 'Value']\n",
        "\n",
        "# Creating a dot plot for the most popular tags\n",
        "fig, ax = plt.subplots(figsize=(10,10))\n",
        "ax = sns.scatterplot(\n",
        "                     data=top20_melted, \n",
        "                     x='Value', \n",
        "                     y='Tag', \n",
        "                     hue='PopularityMeasure',\n",
        "                     s=400,\n",
        "                     alpha=0.6\n",
        "                     )\n",
        "ax.set_title('Most Popular Tags', fontsize=35)\n",
        "ax.set_xlabel('Value', fontsize=20)\n",
        "ax.set_ylabel(None)\n",
        "plt.xticks(fontsize=15)\n",
        "plt.yticks(fontsize=15)\n",
        "ax.tick_params(left=False)\n",
        "ax.legend(loc=4, fontsize=15, frameon=False)\n",
        "sns.despine(left=True)\n",
        "plt.show()"
      ],
      "metadata": {
        "colab": {
          "base_uri": "https://localhost:8080/",
          "height": 0
        },
        "id": "VM2F8txrTkx1",
        "outputId": "f120fc69-364c-4d0c-d711-3ff0a4afe324"
      },
      "execution_count": 22,
      "outputs": [
        {
          "output_type": "display_data",
          "data": {
            "image/png": "[encoded data removed]",
            "text/plain": [
              "<Figure size 720x720 with 1 Axes>"
            ]
          },
          "metadata": {
            "needs_background": "light"
          }
        }
      ]
    },
    {
      "cell_type": "markdown",
      "source": [
        "## Engaging domain knowledge\n"
      ],
      "metadata": {
        "id": "Z3rVo3sKXPl6"
      }
    },
    {
      "cell_type": "markdown",
      "source": [
        "All the visualizations so far showed that `machine-learning` is the most popular tag, with a big gap from all the others. This gives us a general trend, however we have to take into account that the sphere of **machine learning** itself is rather large and includes plenty of branches, approaches, and methods.\n",
        "\n",
        "At a closer look, we see that all the topics reflected by the 9 most popular tags above are actually all interrelated, and all can be united under a general giant topic: **Machine Learning**.\n",
        "\n",
        "> As of 2020, deep learning has become the dominant approach for much ongoing work in the field of machine learning.\n",
        "\n",
        "Hence, being a relatively new, rising area, attracting more and more interest from both learners and data scientists, still quite a large topic, but already much more focused than machine learning in general, **deep learning seems to be a perfect candidate for a data science learning resource content**.\n",
        "\n",
        "Before finalizing our recommendation, we need to check `\"Is deep learning just a fad?\"` before investing the time and resources into writing learning materials."
      ],
      "metadata": {
        "id": "Ix35eoxGX-Tt"
      }
    },
    {
      "cell_type": "markdown",
      "source": [
        "To track the interest in this topic across time, we're going to return to the DSSE database and run a query that fetches all of the questions ever asked on DSSE, their dates and tags:\n",
        "```\n",
        "SELECT Id, \n",
        "       CreationDate, \n",
        "       Tags\n",
        "  FROM posts\n",
        " WHERE PostTypeId = 1;\n",
        "```"
      ],
      "metadata": {
        "id": "3FuFBCYsY73O"
      }
    },
    {
      "cell_type": "code",
      "source": [
        "url_1 = 'https://raw.githubusercontent.com/minhha0510/StackOverflow-datascience-question/main/Deep%20learning%20interest%20over%20time.csv'\n",
        "\n",
        "questions_all = pd.read_csv(url_1, parse_dates=['CreationDate'])\n",
        "questions_all.head()"
      ],
      "metadata": {
        "colab": {
          "base_uri": "https://localhost:8080/",
          "height": 0
        },
        "id": "UfAdiNFlYMoM",
        "outputId": "65aaf033-fd1a-45d0-8ee9-1ff4694351da"
      },
      "execution_count": 23,
      "outputs": [
        {
          "output_type": "execute_result",
          "data": {
            "text/html": [
              "\n",
              "  <div id=\"df-235b7cc8-c044-44a2-a6e1-1955ff94a4a2\">\n",
              "    <div class=\"colab-df-container\">\n",
              "      <div>\n",
              "<style scoped>\n",
              "    .dataframe tbody tr th:only-of-type {\n",
              "        vertical-align: middle;\n",
              "    }\n",
              "\n",
              "    .dataframe tbody tr th {\n",
              "        vertical-align: top;\n",
              "    }\n",
              "\n",
              "    .dataframe thead th {\n",
              "        text-align: right;\n",
              "    }\n",
              "</style>\n",
              "<table border=\"1\" class=\"dataframe\">\n",
              "  <thead>\n",
              "    <tr style=\"text-align: right;\">\n",
              "      <th></th>\n",
              "      <th>Id</th>\n",
              "      <th>CreationDate</th>\n",
              "      <th>Tags</th>\n",
              "    </tr>\n",
              "  </thead>\n",
              "  <tbody>\n",
              "    <tr>\n",
              "      <th>0</th>\n",
              "      <td>5</td>\n",
              "      <td>2014-05-13 23:58:30</td>\n",
              "      <td>&lt;machine-learning&gt;</td>\n",
              "    </tr>\n",
              "    <tr>\n",
              "      <th>1</th>\n",
              "      <td>7</td>\n",
              "      <td>2014-05-14 00:11:06</td>\n",
              "      <td>&lt;education&gt;&lt;open-source&gt;</td>\n",
              "    </tr>\n",
              "    <tr>\n",
              "      <th>2</th>\n",
              "      <td>14</td>\n",
              "      <td>2014-05-14 01:25:59</td>\n",
              "      <td>&lt;data-mining&gt;&lt;definitions&gt;</td>\n",
              "    </tr>\n",
              "    <tr>\n",
              "      <th>3</th>\n",
              "      <td>15</td>\n",
              "      <td>2014-05-14 01:41:23</td>\n",
              "      <td>&lt;databases&gt;</td>\n",
              "    </tr>\n",
              "    <tr>\n",
              "      <th>4</th>\n",
              "      <td>16</td>\n",
              "      <td>2014-05-14 01:57:56</td>\n",
              "      <td>&lt;machine-learning&gt;&lt;bigdata&gt;&lt;libsvm&gt;</td>\n",
              "    </tr>\n",
              "  </tbody>\n",
              "</table>\n",
              "</div>\n",
              "      <button class=\"colab-df-convert\" onclick=\"convertToInteractive('df-235b7cc8-c044-44a2-a6e1-1955ff94a4a2')\"\n",
              "              title=\"Convert this dataframe to an interactive table.\"\n",
              "              style=\"display:none;\">\n",
              "        \n",
              "  <svg xmlns=\"http://www.w3.org/2000/svg\" height=\"24px\"viewBox=\"0 0 24 24\"\n",
              "       width=\"24px\">\n",
              "    <path d=\"M0 0h24v24H0V0z\" fill=\"none\"/>\n",
              "    <path d=\"M18.56 5.44l.94 2.06.94-2.06 2.06-.94-2.06-.94-.94-2.06-.94 2.06-2.06.94zm-11 1L8.5 8.5l.94-2.06 2.06-.94-2.06-.94L8.5 2.5l-.94 2.06-2.06.94zm10 10l.94 2.06.94-2.06 2.06-.94-2.06-.94-.94-2.06-.94 2.06-2.06.94z\"/><path d=\"M17.41 7.96l-1.37-1.37c-.4-.4-.92-.59-1.43-.59-.52 0-1.04.2-1.43.59L10.3 9.45l-7.72 7.72c-.78.78-.78 2.05 0 2.83L4 21.41c.39.39.9.59 1.41.59.51 0 1.02-.2 1.41-.59l7.78-7.78 2.81-2.81c.8-.78.8-2.07 0-2.86zM5.41 20L4 18.59l7.72-7.72 1.47 1.35L5.41 20z\"/>\n",
              "  </svg>\n",
              "      </button>\n",
              "      \n",
              "  <style>\n",
              "    .colab-df-container {\n",
              "      display:flex;\n",
              "      flex-wrap:wrap;\n",
              "      gap: 12px;\n",
              "    }\n",
              "\n",
              "    .colab-df-convert {\n",
              "      background-color: #E8F0FE;\n",
              "      border: none;\n",
              "      border-radius: 50%;\n",
              "      cursor: pointer;\n",
              "      display: none;\n",
              "      fill: #1967D2;\n",
              "      height: 32px;\n",
              "      padding: 0 0 0 0;\n",
              "      width: 32px;\n",
              "    }\n",
              "\n",
              "    .colab-df-convert:hover {\n",
              "      background-color: #E2EBFA;\n",
              "      box-shadow: 0px 1px 2px rgba(60, 64, 67, 0.3), 0px 1px 3px 1px rgba(60, 64, 67, 0.15);\n",
              "      fill: #174EA6;\n",
              "    }\n",
              "\n",
              "    [theme=dark] .colab-df-convert {\n",
              "      background-color: #3B4455;\n",
              "      fill: #D2E3FC;\n",
              "    }\n",
              "\n",
              "    [theme=dark] .colab-df-convert:hover {\n",
              "      background-color: #434B5C;\n",
              "      box-shadow: 0px 1px 3px 1px rgba(0, 0, 0, 0.15);\n",
              "      filter: drop-shadow(0px 1px 2px rgba(0, 0, 0, 0.3));\n",
              "      fill: #FFFFFF;\n",
              "    }\n",
              "  </style>\n",
              "\n",
              "      <script>\n",
              "        const buttonEl =\n",
              "          document.querySelector('#df-235b7cc8-c044-44a2-a6e1-1955ff94a4a2 button.colab-df-convert');\n",
              "        buttonEl.style.display =\n",
              "          google.colab.kernel.accessAllowed ? 'block' : 'none';\n",
              "\n",
              "        async function convertToInteractive(key) {\n",
              "          const element = document.querySelector('#df-235b7cc8-c044-44a2-a6e1-1955ff94a4a2');\n",
              "          const dataTable =\n",
              "            await google.colab.kernel.invokeFunction('convertToInteractive',\n",
              "                                                     [key], {});\n",
              "          if (!dataTable) return;\n",
              "\n",
              "          const docLinkHtml = 'Like what you see? Visit the ' +\n",
              "            '<a target=\"_blank\" href=https://colab.research.google.com/notebooks/data_table.ipynb>data table notebook</a>'\n",
              "            + ' to learn more about interactive tables.';\n",
              "          element.innerHTML = '';\n",
              "          dataTable['output_type'] = 'display_data';\n",
              "          await google.colab.output.renderOutput(dataTable, element);\n",
              "          const docLink = document.createElement('div');\n",
              "          docLink.innerHTML = docLinkHtml;\n",
              "          element.appendChild(docLink);\n",
              "        }\n",
              "      </script>\n",
              "    </div>\n",
              "  </div>\n",
              "  "
            ],
            "text/plain": [
              "   Id        CreationDate                                 Tags\n",
              "0   5 2014-05-13 23:58:30                   <machine-learning>\n",
              "1   7 2014-05-14 00:11:06             <education><open-source>\n",
              "2  14 2014-05-14 01:25:59           <data-mining><definitions>\n",
              "3  15 2014-05-14 01:41:23                          <databases>\n",
              "4  16 2014-05-14 01:57:56  <machine-learning><bigdata><libsvm>"
            ]
          },
          "metadata": {},
          "execution_count": 23
        }
      ]
    },
    {
      "cell_type": "code",
      "source": [
        "# Transforming values in the `Tags` column into lists of strings\n",
        "questions_all['Tags'] = questions_all['Tags'].str.replace(\"^<|>$\",\"\").str.split(\"><\")\n",
        "\n",
        "# Double-checking the results\n",
        "questions_all.head()"
      ],
      "metadata": {
        "colab": {
          "base_uri": "https://localhost:8080/",
          "height": 0
        },
        "id": "AGbzt3_JaHWh",
        "outputId": "5c56517e-7331-4437-c012-21a590ab6e63"
      },
      "execution_count": 24,
      "outputs": [
        {
          "output_type": "stream",
          "name": "stderr",
          "text": [
            "/usr/local/lib/python3.7/dist-packages/ipykernel_launcher.py:2: FutureWarning: The default value of regex will change from True to False in a future version.\n",
            "  \n"
          ]
        },
        {
          "output_type": "execute_result",
          "data": {
            "text/html": [
              "\n",
              "  <div id=\"df-c31cebf6-02da-45af-896f-5e7f991e5a2d\">\n",
              "    <div class=\"colab-df-container\">\n",
              "      <div>\n",
              "<style scoped>\n",
              "    .dataframe tbody tr th:only-of-type {\n",
              "        vertical-align: middle;\n",
              "    }\n",
              "\n",
              "    .dataframe tbody tr th {\n",
              "        vertical-align: top;\n",
              "    }\n",
              "\n",
              "    .dataframe thead th {\n",
              "        text-align: right;\n",
              "    }\n",
              "</style>\n",
              "<table border=\"1\" class=\"dataframe\">\n",
              "  <thead>\n",
              "    <tr style=\"text-align: right;\">\n",
              "      <th></th>\n",
              "      <th>Id</th>\n",
              "      <th>CreationDate</th>\n",
              "      <th>Tags</th>\n",
              "    </tr>\n",
              "  </thead>\n",
              "  <tbody>\n",
              "    <tr>\n",
              "      <th>0</th>\n",
              "      <td>5</td>\n",
              "      <td>2014-05-13 23:58:30</td>\n",
              "      <td>[machine-learning]</td>\n",
              "    </tr>\n",
              "    <tr>\n",
              "      <th>1</th>\n",
              "      <td>7</td>\n",
              "      <td>2014-05-14 00:11:06</td>\n",
              "      <td>[education, open-source]</td>\n",
              "    </tr>\n",
              "    <tr>\n",
              "      <th>2</th>\n",
              "      <td>14</td>\n",
              "      <td>2014-05-14 01:25:59</td>\n",
              "      <td>[data-mining, definitions]</td>\n",
              "    </tr>\n",
              "    <tr>\n",
              "      <th>3</th>\n",
              "      <td>15</td>\n",
              "      <td>2014-05-14 01:41:23</td>\n",
              "      <td>[databases]</td>\n",
              "    </tr>\n",
              "    <tr>\n",
              "      <th>4</th>\n",
              "      <td>16</td>\n",
              "      <td>2014-05-14 01:57:56</td>\n",
              "      <td>[machine-learning, bigdata, libsvm]</td>\n",
              "    </tr>\n",
              "  </tbody>\n",
              "</table>\n",
              "</div>\n",
              "      <button class=\"colab-df-convert\" onclick=\"convertToInteractive('df-c31cebf6-02da-45af-896f-5e7f991e5a2d')\"\n",
              "              title=\"Convert this dataframe to an interactive table.\"\n",
              "              style=\"display:none;\">\n",
              "        \n",
              "  <svg xmlns=\"http://www.w3.org/2000/svg\" height=\"24px\"viewBox=\"0 0 24 24\"\n",
              "       width=\"24px\">\n",
              "    <path d=\"M0 0h24v24H0V0z\" fill=\"none\"/>\n",
              "    <path d=\"M18.56 5.44l.94 2.06.94-2.06 2.06-.94-2.06-.94-.94-2.06-.94 2.06-2.06.94zm-11 1L8.5 8.5l.94-2.06 2.06-.94-2.06-.94L8.5 2.5l-.94 2.06-2.06.94zm10 10l.94 2.06.94-2.06 2.06-.94-2.06-.94-.94-2.06-.94 2.06-2.06.94z\"/><path d=\"M17.41 7.96l-1.37-1.37c-.4-.4-.92-.59-1.43-.59-.52 0-1.04.2-1.43.59L10.3 9.45l-7.72 7.72c-.78.78-.78 2.05 0 2.83L4 21.41c.39.39.9.59 1.41.59.51 0 1.02-.2 1.41-.59l7.78-7.78 2.81-2.81c.8-.78.8-2.07 0-2.86zM5.41 20L4 18.59l7.72-7.72 1.47 1.35L5.41 20z\"/>\n",
              "  </svg>\n",
              "      </button>\n",
              "      \n",
              "  <style>\n",
              "    .colab-df-container {\n",
              "      display:flex;\n",
              "      flex-wrap:wrap;\n",
              "      gap: 12px;\n",
              "    }\n",
              "\n",
              "    .colab-df-convert {\n",
              "      background-color: #E8F0FE;\n",
              "      border: none;\n",
              "      border-radius: 50%;\n",
              "      cursor: pointer;\n",
              "      display: none;\n",
              "      fill: #1967D2;\n",
              "      height: 32px;\n",
              "      padding: 0 0 0 0;\n",
              "      width: 32px;\n",
              "    }\n",
              "\n",
              "    .colab-df-convert:hover {\n",
              "      background-color: #E2EBFA;\n",
              "      box-shadow: 0px 1px 2px rgba(60, 64, 67, 0.3), 0px 1px 3px 1px rgba(60, 64, 67, 0.15);\n",
              "      fill: #174EA6;\n",
              "    }\n",
              "\n",
              "    [theme=dark] .colab-df-convert {\n",
              "      background-color: #3B4455;\n",
              "      fill: #D2E3FC;\n",
              "    }\n",
              "\n",
              "    [theme=dark] .colab-df-convert:hover {\n",
              "      background-color: #434B5C;\n",
              "      box-shadow: 0px 1px 3px 1px rgba(0, 0, 0, 0.15);\n",
              "      filter: drop-shadow(0px 1px 2px rgba(0, 0, 0, 0.3));\n",
              "      fill: #FFFFFF;\n",
              "    }\n",
              "  </style>\n",
              "\n",
              "      <script>\n",
              "        const buttonEl =\n",
              "          document.querySelector('#df-c31cebf6-02da-45af-896f-5e7f991e5a2d button.colab-df-convert');\n",
              "        buttonEl.style.display =\n",
              "          google.colab.kernel.accessAllowed ? 'block' : 'none';\n",
              "\n",
              "        async function convertToInteractive(key) {\n",
              "          const element = document.querySelector('#df-c31cebf6-02da-45af-896f-5e7f991e5a2d');\n",
              "          const dataTable =\n",
              "            await google.colab.kernel.invokeFunction('convertToInteractive',\n",
              "                                                     [key], {});\n",
              "          if (!dataTable) return;\n",
              "\n",
              "          const docLinkHtml = 'Like what you see? Visit the ' +\n",
              "            '<a target=\"_blank\" href=https://colab.research.google.com/notebooks/data_table.ipynb>data table notebook</a>'\n",
              "            + ' to learn more about interactive tables.';\n",
              "          element.innerHTML = '';\n",
              "          dataTable['output_type'] = 'display_data';\n",
              "          await google.colab.output.renderOutput(dataTable, element);\n",
              "          const docLink = document.createElement('div');\n",
              "          docLink.innerHTML = docLinkHtml;\n",
              "          element.appendChild(docLink);\n",
              "        }\n",
              "      </script>\n",
              "    </div>\n",
              "  </div>\n",
              "  "
            ],
            "text/plain": [
              "   Id        CreationDate                                 Tags\n",
              "0   5 2014-05-13 23:58:30                   [machine-learning]\n",
              "1   7 2014-05-14 00:11:06             [education, open-source]\n",
              "2  14 2014-05-14 01:25:59           [data-mining, definitions]\n",
              "3  15 2014-05-14 01:41:23                          [databases]\n",
              "4  16 2014-05-14 01:57:56  [machine-learning, bigdata, libsvm]"
            ]
          },
          "metadata": {},
          "execution_count": 24
        }
      ]
    },
    {
      "cell_type": "code",
      "source": [
        "# Creating a list of all the tags ever used\n",
        "all_tags = []\n",
        "for lst in questions_all['Tags']:\n",
        "    for item in lst:\n",
        "        if item not in all_tags:\n",
        "            all_tags.append(item)\n",
        "\n",
        "# Creating a list of sets of tags for each question that has `deep-learning`\n",
        "# as one of the tags\n",
        "dl_tags = []\n",
        "for lst in questions_all['Tags']:\n",
        "    if 'deep-learning' in lst:\n",
        "        dl_tags.append(lst)\n",
        "\n",
        "# Creating a dictionary of all the tags used in combination with `deep-learning`\n",
        "# and their frequencies\n",
        "dl_tags_dict = {}\n",
        "for lst in dl_tags:\n",
        "    for item in lst:\n",
        "        if item not in dl_tags_dict:\n",
        "            dl_tags_dict[item]=0\n",
        "        dl_tags_dict[item] += 1\n",
        "\n",
        "# Sorting the dictionary\n",
        "sorted_dl_tags_dict= dict(sorted(\n",
        "                                 dl_tags_dict.items(), \n",
        "                                 reverse=True, \n",
        "                                 key=operator.itemgetter(1)\n",
        "                                 ))\n",
        "                                 \n",
        "# Creating a list of all the tags that were used with the `deep-learning` tag,\n",
        "# but sometimes were used also without it\n",
        "dl_tags_not_exclusive = []\n",
        "for lst in questions_all['Tags']:\n",
        "    for item in list(dl_tags_dict.keys())[1:]: # avoiding checking `deep-learning` itself\n",
        "         if 'deep-learning' not in lst and item in lst and item not in dl_tags_not_exclusive:\n",
        "                dl_tags_not_exclusive.append(item)\n",
        "\n",
        "# Printing the statistics and the dictionary\n",
        "print('Number of all the questions in the DSSE:',  '\\n',\n",
        "      len(questions_all), '\\n', '\\n',\n",
        "      'Number of questions with the `deep-learning` tag:', '\\n', \n",
        "      len(dl_tags), '\\n', '\\n',\n",
        "      'Overall number of all the tags in the DSSE database:', '\\n', \n",
        "      len(all_tags), '\\n', '\\n',\n",
        "      'Number of unique tags associated with `deep-learning`:',  '\\n', \n",
        "      len(dl_tags_dict), '\\n','\\n',\n",
        "      'Number of unique tags associated with `deep-learning`, but sometimes used without:', '\\n',\n",
        "      len(dl_tags_not_exclusive), '\\n', '\\n',  \n",
        "      sorted_dl_tags_dict)"
      ],
      "metadata": {
        "colab": {
          "base_uri": "https://localhost:8080/"
        },
        "id": "7h9wYRQgaXI7",
        "outputId": "f44a4c2b-a262-4a3c-a183-37eb1881be25"
      },
      "execution_count": 25,
      "outputs": [
        {
          "output_type": "stream",
          "name": "stdout",
          "text": [
            "Number of all the questions in the DSSE: \n",
            " 32379 \n",
            " \n",
            " Number of questions with the `deep-learning` tag: \n",
            " 4339 \n",
            " \n",
            " Overall number of all the tags in the DSSE database: \n",
            " 659 \n",
            " \n",
            " Number of unique tags associated with `deep-learning`: \n",
            " 421 \n",
            " \n",
            " Number of unique tags associated with `deep-learning`, but sometimes used without: \n",
            " 415 \n",
            " \n",
            " {'deep-learning': 4339, 'machine-learning': 1792, 'neural-network': 1313, 'keras': 790, 'tensorflow': 623, 'python': 516, 'cnn': 489, 'nlp': 329, 'lstm': 290, 'classification': 288, 'convolutional-neural-network': 260, 'computer-vision': 240, 'image-classification': 198, 'rnn': 190, 'time-series': 156, 'pytorch': 136, 'reinforcement-learning': 122, 'dataset': 115, 'convolution': 113, 'object-detection': 105, 'training': 102, 'loss-function': 97, 'autoencoder': 88, 'regression': 88, 'data-mining': 86, 'gan': 85, 'machine-learning-model': 76, 'transformer': 70, 'predictive-modeling': 67, 'image-recognition': 63, 'gradient-descent': 63, 'data-science-model': 62, 'backpropagation': 62, 'optimization': 61, 'activation-function': 59, 'word-embeddings': 58, 'transfer-learning': 56, 'accuracy': 50, 'statistics': 49, 'feature-selection': 47, 'multiclass-classification': 47, 'scikit-learn': 46, 'attention-mechanism': 45, 'gpu': 43, 'image-preprocessing': 42, 'bert': 41, 'generative-models': 41, 'overfitting': 41, 'multilabel-classification': 41, 'cross-validation': 38, 'dqn': 37, 'q-learning': 36, 'prediction': 35, 'embeddings': 33, 'recommender-system': 33, 'text-mining': 33, 'supervised-learning': 32, 'class-imbalance': 32, 'yolo': 32, 'unsupervised-learning': 31, 'word2vec': 31, 'data-augmentation': 30, 'numpy': 29, 'data': 28, 'mlp': 27, 'logistic-regression': 27, 'preprocessing': 27, 'image-segmentation': 27, 'feature-extraction': 26, 'hyperparameter-tuning': 26, 'normalization': 25, 'feature-engineering': 24, 'regularization': 24, 'mathematics': 23, 'anomaly-detection': 23, 'sequence-to-sequence': 22, 'dropout': 22, 'data-cleaning': 22, 'text-classification': 22, 'sentiment-analysis': 21, 'batch-normalization': 21, 'audio-recognition': 21, 'algorithms': 21, 'vgg16': 21, 'named-entity-recognition': 19, 'forecasting': 19, 'mnist': 18, 'visualization': 18, 'image': 18, 'mini-batch-gradient-descent': 17, 'faster-rcnn': 17, 'clustering': 17, 'object-recognition': 17, 'model-selection': 17, 'evaluation': 17, 'inception': 17, 'ocr': 16, 'bigdata': 16, 'sequence': 16, 'machine-translation': 16, 'weight-initialization': 16, 'ai': 16, 'matlab': 16, 'linear-regression': 15, 'learning-rate': 15, 'theano': 15, 'language-model': 14, 'probability': 14, 'policy-gradients': 14, 'python-3.x': 14, 'semantic-segmentation': 14, 'opencv': 14, 'dimensionality-reduction': 13, 'labels': 13, 'svm': 13, 'r': 13, 'similarity': 12, 'hyperparameter': 12, 'performance': 12, 'graph-neural-network': 12, 'text-generation': 12, 'siamese-networks': 12, 'metric': 11, 'epochs': 11, 'multitask-learning': 11, 'perceptron': 11, 'deepmind': 11, 'text': 10, 'implementation': 10, 'representation': 10, 'inceptionresnetv2': 10, 'pca': 10, 'research': 10, 'openai-gym': 10, 'softmax': 10, 'random-forest': 9, 'caffe': 9, 'confusion-matrix': 9, 'graphs': 9, 'cost-function': 9, 'rbm': 9, 'information-retrieval': 9, 'feature-scaling': 9, 'huggingface': 9, 'cloud-computing': 8, 'categorical-data': 8, 'linear-algebra': 8, 'ensemble-modeling': 8, 'speech-to-text': 8, 'jupyter': 8, 'finetuning': 8, 'validation': 8, 'colab': 7, 'terminology': 7, 'decision-trees': 7, 'kaggle': 7, 'gru': 7, 'alex-net': 7, 'information-theory': 7, 'distributed': 7, 'loss': 7, 'features': 7, 'noise': 7, 'vae': 6, 'xgboost': 6, 'apache-spark': 6, 'bayesian': 6, 'generalization': 6, 'gradient': 6, 'distribution': 6, 'correlation': 6, 'explainable-ai': 6, 'matrix': 6, 'books': 6, 'gaussian': 6, 'data-analysis': 6, 'nvidia': 5, 'stacked-lstm': 5, 'multi-output': 5, 'interpretation': 5, 'binary': 5, 'reference-request': 5, 'annotation': 5, 'neural-style-transfer': 5, 'actor-critic': 5, 'recurrent-neural-network': 5, 'distance': 5, 'theory': 5, 'vector-space-models': 4, 'monte-carlo': 4, 'bias': 4, 'encoding': 4, 'forecast': 4, 'one-hot-encoding': 4, 'chatbot': 4, 'shap': 4, 'ann': 4, 'tokenization': 4, 'aws': 4, 'genetic-algorithms': 4, 'convergence': 4, 'matrix-factorisation': 4, 'google': 4, 'sampling': 4, 'pandas': 4, 'matplotlib': 4, 'automl': 4, 'meta-learning': 4, 'f1score': 4, 'cuda': 4, 'search-engine': 4, 'kernel': 4, 'gnn': 4, 'similar-documents': 4, 'open-source': 3, 'openai-gpt': 3, '3d-reconstruction': 3, 'stanford-nlp': 3, 'bayes-error': 3, 'torch': 3, 'library': 3, 'fastai': 3, 'parallel': 3, 'beginner': 3, 'information-extraction': 3, 'auc': 3, 'derivation': 3, 'azure-ml': 3, 'pooling': 3, 'game': 3, 'topic-model': 3, 'naive-bayes-classifier': 3, 'objective-function': 3, 'knowledge-graph': 3, 'arima': 3, 'memory': 3, 'grid-search': 3, 'plotting': 3, 'predict': 3, 'outlier': 3, 'masking': 3, 'self-study': 3, 'adversarial-ml': 3, 'dataframe': 3, '3d-object-detection': 3, 'one-shot-learning': 3, 'inference': 3, 'sigmoid': 3, 'binary-classification': 3, 'hardware': 3, 'tflearn': 2, 'online-learning': 2, 'manifold': 2, 'data-product': 2, 'bayesian-networks': 2, 'coursera': 2, 'missing-data': 2, 'social-network-analysis': 2, 'code': 2, 'spacy': 2, 'sequential-pattern-mining': 2, 'question-answering': 2, 'categorical-encoding': 2, 'early-stopping': 2, 'methodology': 2, 'cs231n': 2, 'sgd': 2, 'weighted-data': 2, 'semi-supervised-learning': 2, 'probabilistic-programming': 2, 'gaussian-process': 2, 'momentum': 2, 'efficiency': 2, 'consumerweb': 2, 'pipelines': 2, 'survival-analysis': 2, 'programming': 2, 'nltk': 2, 'search': 2, 'randomized-algorithms': 2, 'privacy': 2, 'reshape': 2, 'descriptive-statistics': 2, 'software-recommendation': 2, 'time-complexity': 2, 'cosine-distance': 2, 'markov-process': 2, 'finance': 2, 'windows': 2, 'activity-recognition': 2, 'keras-rl': 2, 'orange': 2, 'pruning': 2, 'multi-instance-learning': 2, 'causalimpact': 2, 'apache-hadoop': 2, 'semantic-similarity': 2, 'cyclegan': 2, 'smote': 2, 'amazon-ml': 2, 'model-evaluations': 2, 'scoring': 2, 'probability-calibration': 2, 'feature-construction': 2, 'parameter': 2, 'multivariate-distribution': 2, 'regex': 2, 'pac-learning': 2, 'domain-adaptation': 2, 'h2o': 2, 'pretraining': 2, 'allennlp': 2, 'data-stream-mining': 2, 'ranking': 2, 'active-learning': 2, 'automatic-summarization': 2, 'mse': 2, 'linux': 2, 'sagemaker': 2, 'normal-equation': 1, 'management': 1, 'serialisation': 1, 'svr': 1, 'image-size': 1, 'numerical': 1, 'javascript': 1, 'google-prediction-api': 1, 'pytorch-geometric': 1, 'estimators': 1, 'classifier': 1, 'discounted-reward': 1, 'convnet': 1, 'roc': 1, 'k-nn': 1, 'federated-learning': 1, 'anomaly': 1, 'scalability': 1, 'rstudio': 1, 'feature-reduction': 1, 'hpc': 1, 'api': 1, 'julia': 1, 'gensim': 1, 'bag-of-words': 1, 'markov-hidden-model': 1, 'project-planning': 1, 'k-means': 1, 'competitions': 1, 'learning': 1, 'spatial-transformer': 1, 'java': 1, 'aws-lambda': 1, 'education': 1, 'mlops': 1, 'csv': 1, 'google-cloud': 1, 'experiments': 1, 'finite-precision': 1, 'orange3': 1, 'dummy-variables': 1, 'ensemble-learning': 1, 'counts': 1, 'scala': 1, 'sql': 1, 'rbf': 1, 'field-aware-factorization-machines': 1, 'predictor-importance': 1, 'sparsity': 1, 'tools': 1, 'expectation-maximization': 1, 'tsne': 1, 'version-control': 1, 'data-leakage': 1, 'variance': 1, 'databases': 1, 'ensemble': 1, 'gmm': 1, 'one-class-classification': 1, 'tfidf': 1, 'labelling': 1, 'processing': 1, 'torchvision': 1, 'career': 1, 'market-basket-analysis': 1, 'nlg': 1, 'sensors': 1, 'parsing': 1, 'tranformation': 1, 'hinge-loss': 1, 'notation': 1, 'confidence': 1, 'definitions': 1, 'time': 1, 'fuzzy-logic': 1, 'lasso': 1, 'octave': 1, 'interpolation': 1, 'rmse': 1, 'anaconda': 1, 'parameter-estimation': 1, 'hierarchical-data-format': 1, 'python-2.7': 1, 'imbalanced-learn': 1, 'structured-data': 1, 'ipython': 1, 'error-handling': 1, 'scraping': 1, 'map-reduce': 1, 'association-rules': 1, 'json': 1, 'anonymization': 1, 'custom-layer': 1, 'lime': 1, 'feature-importances': 1, 'boosting': 1, 'wikipedia': 1, 'few-shot-learning': 1, 'uncertainty': 1, 'bioinformatics': 1, 'test': 1, 'stacking': 1}\n"
          ]
        }
      ]
    },
    {
      "cell_type": "markdown",
      "source": [
        "From the statistics above, we can make the following observations:\n",
        "-  13% of all the questions in the DSSE database are tagged with `deep-learning`,\n",
        "- 62% of all the unique tags were ever used in combination with `deep-learning`,\n",
        "- **almost all of the tags (99%) associated with `deep-learning` were used at least once without it**. \n",
        "\n",
        "The last insight is especially important for us, since it means that there definitely should be some questions not tagged with `deep-learning`, but having some other tags strongly related to the deep learning sphere (for example, representing some specific libraries or methods). Hence, returning to the 1st observation, in reality we should have more (presumably, much more) than 13% of questions related to deep-learning."
      ],
      "metadata": {
        "id": "oiCUZme6gEpg"
      }
    },
    {
      "cell_type": "markdown",
      "source": [
        "Our next step is exactly to find those tags specific only to the deep learning sphere. Since the dictionary of the unique tags associated with the `deep-learning` tag contains quite a big but still manageable amount of items (381), we can decide not to apply correlation techniques, but instead try to deal with these tags manually. Despite this approach is definitely more time-consuming, we can ensure getting more value out of the data. The algorithm is the following:\n",
        "- Excluding generic and obviously non-specific tags (fortunately for our task, there are quite a lot of them: `kaggle`, `education`, `java`, `parsing`, `career`, etc.). This includes also `machine-learning` and `python`.\n",
        "- Excluding the tags that can be related both to deep learning and to the \"classical\" machine learning: `k-nn`, `classifier`, `roc`, `overfitting`, `logistic-regression`, `scikit-learn`, etc. At this step, we'll use our domain knowledge and google information in all ambiguous cases. The idea here is to be rather conservative and keep **only** those tags that are **uniquely related to deep learning**.\n",
        "\n",
        "Below is the resulting dictionary:"
      ],
      "metadata": {
        "id": "lVrS4GRjhkXo"
      }
    },
    {
      "cell_type": "code",
      "source": [
        "dl_related_tags = {\n",
        "                   'deep-learning': 3544,\n",
        "                   'neural-network': 1143,\n",
        "                   'keras': 665,\n",
        "                   'cnn': 409,\n",
        "                   'lstm': 240,\n",
        "                   'convnet': 191,\n",
        "                   'rnn': 133,\n",
        "                   'autoencoder': 77,\n",
        "                   'gan': 71,\n",
        "                   'recurrent-neural-net': 55,\n",
        "                   'backpropagation': 54,\n",
        "                   'activation-function': 48,\n",
        "                   'gpu': 42,\n",
        "                   'deep-network': 39,\n",
        "                   'dqn': 30,\n",
        "                   'yolo': 28,\n",
        "                   'mlp': 24,\n",
        "                   'attention-mechanism': 23,\n",
        "                   'dropout': 22,\n",
        "                   'vgg16': 15,\n",
        "                   'inception': 14,\n",
        "                   'mini-batch-gradient-descent': 12,\n",
        "                   'faster-rcnn': 11,\n",
        "                   'gru': 10,\n",
        "                   'caffe': 10,\n",
        "                   'perceptron': 8,\n",
        "                   'rbm': 8,\n",
        "                   'stacked-lstm': 6,\n",
        "                   'inceptionresnetv2': 6,\n",
        "                   'ann': 6,\n",
        "                   'alex-net': 6,\n",
        "                   'siamese-networks': 5,\n",
        "                   'neural-style-transfer': 4,\n",
        "                   'pooling': 4,\n",
        "                   'graph-neural-network': 4,\n",
        "                   'vae': 3,\n",
        "                   'fastai': 3,\n",
        "                   'cs231n': 3,\n",
        "                   'pretraining': 2,\n",
        "                   'tflearn': 2,\n",
        "                   'gnn': 2,\n",
        "                   'allennlp': 1,\n",
        "                   'rmsprop': 1,\n",
        "                   'keras-rl': 1,\n",
        "                   'pytorch-geometric': 1,\n",
        "                   'mxnet': 1,\n",
        "                  }\n",
        "\n",
        "print('Number of tags specific to deep learning: ', len(dl_related_tags))"
      ],
      "metadata": {
        "colab": {
          "base_uri": "https://localhost:8080/"
        },
        "id": "ZvjpOfy2gFPR",
        "outputId": "1d33d05c-b78b-430e-a6fc-3867f674dbf5"
      },
      "execution_count": 26,
      "outputs": [
        {
          "output_type": "stream",
          "name": "stdout",
          "text": [
            "Number of tags specific to deep learning:  46\n"
          ]
        }
      ]
    },
    {
      "cell_type": "code",
      "source": [
        "# Removing all the entries related to 2022\n",
        "questions_all = questions_all[questions_all['CreationDate'].dt.year < 2022]"
      ],
      "metadata": {
        "id": "XEC5kr1jfTXH"
      },
      "execution_count": 27,
      "outputs": []
    },
    {
      "cell_type": "code",
      "source": [
        "print('First question asked: ', questions_all['CreationDate'].min(),\n",
        "      '\\n',\n",
        "      'Last question asked: ', questions_all['CreationDate'].max())"
      ],
      "metadata": {
        "colab": {
          "base_uri": "https://localhost:8080/"
        },
        "id": "hhDWY_L1eoIE",
        "outputId": "735c8f58-39af-41ee-86c6-b999b518a1e8"
      },
      "execution_count": 28,
      "outputs": [
        {
          "output_type": "stream",
          "name": "stdout",
          "text": [
            "First question asked:  2014-05-13 23:58:30 \n",
            " Last question asked:  2021-12-31 23:09:09\n"
          ]
        }
      ]
    },
    {
      "cell_type": "code",
      "source": [
        "# Creating a list from the dictionary of the tags associated with deep learning\n",
        "dl_related_tags_list = list(dl_related_tags.keys())\n",
        "\n",
        "# Defining a function for labeling questions as related to deep learning or not\n",
        "def classify_dl(tags):\n",
        "    for tag in tags:\n",
        "        if tag in dl_related_tags_list:\n",
        "            return 1\n",
        "    return 0\n",
        "\n",
        "# Defining a function for extracting the year and quarter\n",
        "def extract_year_quarter(dt):\n",
        "    quarter = ((dt.month-1) // 3) + 1\n",
        "    return f'{dt.year}_Q_{quarter}'\n",
        "\n",
        "# Creating the columns `DL` and `YearQuarter`\n",
        "questions_all['DL'] = questions_all['Tags'].apply(classify_dl)\n",
        "questions_all['YearQuarter'] = questions_all['CreationDate'].apply(extract_year_quarter)"
      ],
      "metadata": {
        "id": "KdXitUglfg1y"
      },
      "execution_count": 29,
      "outputs": []
    },
    {
      "cell_type": "code",
      "source": [
        "# Creating a dataframe summarizing questions by quarter\n",
        "questions_by_quarter = questions_all.groupby('YearQuarter').agg({'DL': ['sum', 'count']})\n",
        "\n",
        "# Renaming the columns\n",
        "questions_by_quarter.columns = ['dl_questions', 'all_questions']\n",
        "\n",
        "# Adding a column representing % of deep learning related questions\n",
        "# by quarter\n",
        "questions_by_quarter['dl_questions_percent'] =\\\n",
        "100 * questions_by_quarter['dl_questions'] / questions_by_quarter['all_questions']\n",
        "\n",
        "# Resetting the index\n",
        "questions_by_quarter.reset_index(inplace=True)\n",
        "questions_by_quarter.sample(5)"
      ],
      "metadata": {
        "colab": {
          "base_uri": "https://localhost:8080/",
          "height": 0
        },
        "id": "HP2P6Fp4fsdA",
        "outputId": "22716e02-1c1f-4929-8ac2-083c3b2ab2e3"
      },
      "execution_count": 30,
      "outputs": [
        {
          "output_type": "execute_result",
          "data": {
            "text/html": [
              "\n",
              "  <div id=\"df-b550be58-9916-4215-bfae-62f88af4c9a9\">\n",
              "    <div class=\"colab-df-container\">\n",
              "      <div>\n",
              "<style scoped>\n",
              "    .dataframe tbody tr th:only-of-type {\n",
              "        vertical-align: middle;\n",
              "    }\n",
              "\n",
              "    .dataframe tbody tr th {\n",
              "        vertical-align: top;\n",
              "    }\n",
              "\n",
              "    .dataframe thead th {\n",
              "        text-align: right;\n",
              "    }\n",
              "</style>\n",
              "<table border=\"1\" class=\"dataframe\">\n",
              "  <thead>\n",
              "    <tr style=\"text-align: right;\">\n",
              "      <th></th>\n",
              "      <th>YearQuarter</th>\n",
              "      <th>dl_questions</th>\n",
              "      <th>all_questions</th>\n",
              "      <th>dl_questions_percent</th>\n",
              "    </tr>\n",
              "  </thead>\n",
              "  <tbody>\n",
              "    <tr>\n",
              "      <th>21</th>\n",
              "      <td>2019_Q_3</td>\n",
              "      <td>551</td>\n",
              "      <td>1742</td>\n",
              "      <td>31.630310</td>\n",
              "    </tr>\n",
              "    <tr>\n",
              "      <th>19</th>\n",
              "      <td>2019_Q_1</td>\n",
              "      <td>598</td>\n",
              "      <td>1733</td>\n",
              "      <td>34.506636</td>\n",
              "    </tr>\n",
              "    <tr>\n",
              "      <th>0</th>\n",
              "      <td>2014_Q_2</td>\n",
              "      <td>7</td>\n",
              "      <td>157</td>\n",
              "      <td>4.458599</td>\n",
              "    </tr>\n",
              "    <tr>\n",
              "      <th>14</th>\n",
              "      <td>2017_Q_4</td>\n",
              "      <td>306</td>\n",
              "      <td>888</td>\n",
              "      <td>34.459459</td>\n",
              "    </tr>\n",
              "    <tr>\n",
              "      <th>28</th>\n",
              "      <td>2021_Q_2</td>\n",
              "      <td>662</td>\n",
              "      <td>1902</td>\n",
              "      <td>34.805468</td>\n",
              "    </tr>\n",
              "  </tbody>\n",
              "</table>\n",
              "</div>\n",
              "      <button class=\"colab-df-convert\" onclick=\"convertToInteractive('df-b550be58-9916-4215-bfae-62f88af4c9a9')\"\n",
              "              title=\"Convert this dataframe to an interactive table.\"\n",
              "              style=\"display:none;\">\n",
              "        \n",
              "  <svg xmlns=\"http://www.w3.org/2000/svg\" height=\"24px\"viewBox=\"0 0 24 24\"\n",
              "       width=\"24px\">\n",
              "    <path d=\"M0 0h24v24H0V0z\" fill=\"none\"/>\n",
              "    <path d=\"M18.56 5.44l.94 2.06.94-2.06 2.06-.94-2.06-.94-.94-2.06-.94 2.06-2.06.94zm-11 1L8.5 8.5l.94-2.06 2.06-.94-2.06-.94L8.5 2.5l-.94 2.06-2.06.94zm10 10l.94 2.06.94-2.06 2.06-.94-2.06-.94-.94-2.06-.94 2.06-2.06.94z\"/><path d=\"M17.41 7.96l-1.37-1.37c-.4-.4-.92-.59-1.43-.59-.52 0-1.04.2-1.43.59L10.3 9.45l-7.72 7.72c-.78.78-.78 2.05 0 2.83L4 21.41c.39.39.9.59 1.41.59.51 0 1.02-.2 1.41-.59l7.78-7.78 2.81-2.81c.8-.78.8-2.07 0-2.86zM5.41 20L4 18.59l7.72-7.72 1.47 1.35L5.41 20z\"/>\n",
              "  </svg>\n",
              "      </button>\n",
              "      \n",
              "  <style>\n",
              "    .colab-df-container {\n",
              "      display:flex;\n",
              "      flex-wrap:wrap;\n",
              "      gap: 12px;\n",
              "    }\n",
              "\n",
              "    .colab-df-convert {\n",
              "      background-color: #E8F0FE;\n",
              "      border: none;\n",
              "      border-radius: 50%;\n",
              "      cursor: pointer;\n",
              "      display: none;\n",
              "      fill: #1967D2;\n",
              "      height: 32px;\n",
              "      padding: 0 0 0 0;\n",
              "      width: 32px;\n",
              "    }\n",
              "\n",
              "    .colab-df-convert:hover {\n",
              "      background-color: #E2EBFA;\n",
              "      box-shadow: 0px 1px 2px rgba(60, 64, 67, 0.3), 0px 1px 3px 1px rgba(60, 64, 67, 0.15);\n",
              "      fill: #174EA6;\n",
              "    }\n",
              "\n",
              "    [theme=dark] .colab-df-convert {\n",
              "      background-color: #3B4455;\n",
              "      fill: #D2E3FC;\n",
              "    }\n",
              "\n",
              "    [theme=dark] .colab-df-convert:hover {\n",
              "      background-color: #434B5C;\n",
              "      box-shadow: 0px 1px 3px 1px rgba(0, 0, 0, 0.15);\n",
              "      filter: drop-shadow(0px 1px 2px rgba(0, 0, 0, 0.3));\n",
              "      fill: #FFFFFF;\n",
              "    }\n",
              "  </style>\n",
              "\n",
              "      <script>\n",
              "        const buttonEl =\n",
              "          document.querySelector('#df-b550be58-9916-4215-bfae-62f88af4c9a9 button.colab-df-convert');\n",
              "        buttonEl.style.display =\n",
              "          google.colab.kernel.accessAllowed ? 'block' : 'none';\n",
              "\n",
              "        async function convertToInteractive(key) {\n",
              "          const element = document.querySelector('#df-b550be58-9916-4215-bfae-62f88af4c9a9');\n",
              "          const dataTable =\n",
              "            await google.colab.kernel.invokeFunction('convertToInteractive',\n",
              "                                                     [key], {});\n",
              "          if (!dataTable) return;\n",
              "\n",
              "          const docLinkHtml = 'Like what you see? Visit the ' +\n",
              "            '<a target=\"_blank\" href=https://colab.research.google.com/notebooks/data_table.ipynb>data table notebook</a>'\n",
              "            + ' to learn more about interactive tables.';\n",
              "          element.innerHTML = '';\n",
              "          dataTable['output_type'] = 'display_data';\n",
              "          await google.colab.output.renderOutput(dataTable, element);\n",
              "          const docLink = document.createElement('div');\n",
              "          docLink.innerHTML = docLinkHtml;\n",
              "          element.appendChild(docLink);\n",
              "        }\n",
              "      </script>\n",
              "    </div>\n",
              "  </div>\n",
              "  "
            ],
            "text/plain": [
              "   YearQuarter  dl_questions  all_questions  dl_questions_percent\n",
              "21    2019_Q_3           551           1742             31.630310\n",
              "19    2019_Q_1           598           1733             34.506636\n",
              "0     2014_Q_2             7            157              4.458599\n",
              "14    2017_Q_4           306            888             34.459459\n",
              "28    2021_Q_2           662           1902             34.805468"
            ]
          },
          "metadata": {},
          "execution_count": 30
        }
      ]
    },
    {
      "cell_type": "code",
      "source": [
        "# CREATING A LINE PLOT FOR THE PERCENTAGE OF DL-RELATED QUESTIONS BY QUARTER\n",
        "#--------------------------------------------------------------------------\n",
        "N = len(questions_by_quarter)\n",
        "questions_by_quarter.plot(\n",
        "                          figsize=(24,12),\n",
        "                          x='YearQuarter', \n",
        "                          y='dl_questions_percent',\n",
        "                          kind='line', \n",
        "                          xlim=0, \n",
        "                          linestyle='-', \n",
        "                          color='darkviolet', \n",
        "                          lw=8,\n",
        "                          fontsize=30, \n",
        "                          legend=False\n",
        "                          )\n",
        "plt.xlabel('Quarter', fontsize=40)\n",
        "plt.ylabel('DL Questions %', fontsize=40)\n",
        "plt.title('Deep Learning Questions % by Quarter', fontsize=60)\n",
        "plt.hlines(\n",
        "           y=34, \n",
        "           xmin=0, \n",
        "           xmax= N,\n",
        "           color='gainsboro',\n",
        "           )\n",
        "sns.despine()"
      ],
      "metadata": {
        "colab": {
          "base_uri": "https://localhost:8080/",
          "height": 0
        },
        "id": "GfcRcry-h98c",
        "outputId": "2ed97c47-1847-4e85-fe22-f3f4ab49aed0"
      },
      "execution_count": 31,
      "outputs": [
        {
          "output_type": "display_data",
          "data": {
            "image/png": "[encoded data removed]",
            "text/plain": [
              "<Figure size 1728x864 with 1 Axes>"
            ]
          },
          "metadata": {
            "needs_background": "light"
          }
        }
      ]
    },
    {
      "cell_type": "code",
      "source": [
        "# CREATING A STACKED HORIZONTAL BAR PLOT FOR DL-RELATED AND OTHER QUESTIONS\n",
        "#--------------------------------------------------------------------------\n",
        "# Data to plot\n",
        "other_Q = questions_by_quarter['all_questions']-questions_by_quarter['dl_questions']\n",
        "dl_Q = questions_by_quarter['all_questions']\n",
        "\n",
        "# X locations for the groups\n",
        "ind = np.arange(N)\n",
        "\n",
        "# Bar width \n",
        "width = 0.85\n",
        "\n",
        "# Plotting the results\n",
        "fig = plt.figure(figsize=(10,9))\n",
        "p1 = plt.barh(\n",
        "              ind, \n",
        "              other_Q, \n",
        "              width, \n",
        "              color = 'darkgray'\n",
        "              )\n",
        "p2 = plt.barh(\n",
        "              ind, \n",
        "              dl_Q, \n",
        "              width, \n",
        "              color = 'limegreen',\n",
        "              left=other_Q\n",
        "              )\n",
        "plt.title('Deep Learning vs. Other Data Science \\n Questions by Quarter', fontsize = 25)\n",
        "plt.xlabel('Number of questions', fontsize=22)\n",
        "plt.ylabel('Quarters', fontsize=22)\n",
        "plt.xticks(fontsize=10)\n",
        "plt.yticks(ind, questions_by_quarter['YearQuarter'], fontsize=10)\n",
        "plt.legend(\n",
        "           (p1[0], p2[0]), \n",
        "           ('Other Questions', 'DL Questions'), \n",
        "           frameon=False, \n",
        "           fontsize=18, \n",
        "           loc=4\n",
        "           )\n",
        "plt.ylim(-0.5,30)\n",
        "plt.tight_layout()\n",
        "sns.despine(left=True)\n",
        "plt.show()\n",
        "print('\\n')"
      ],
      "metadata": {
        "colab": {
          "base_uri": "https://localhost:8080/",
          "height": 0
        },
        "id": "odvuKqrCiD87",
        "outputId": "5a4ba81b-3464-4d67-8428-b02d158f7009"
      },
      "execution_count": 32,
      "outputs": [
        {
          "output_type": "display_data",
          "data": {
            "image/png": "[encoded data removed]",
            "text/plain": [
              "<Figure size 720x648 with 1 Axes>"
            ]
          },
          "metadata": {
            "needs_background": "light"
          }
        },
        {
          "output_type": "stream",
          "name": "stdout",
          "text": [
            "\n",
            "\n"
          ]
        }
      ]
    },
    {
      "cell_type": "markdown",
      "source": [
        "# Conclusion\n"
      ],
      "metadata": {
        "id": "dmR0hyQroaPA"
      }
    },
    {
      "cell_type": "markdown",
      "source": [
        "These 2 graphs give us some interesting insights:\n",
        "- The number of data science questions in general has been constantly increasing over the whole time of existence of the DSSE (from 2014). A noticeable breakthrough happened in the beginning of 2018 (as a possible way forward, it could be interesting to investigate potential reasons for this growing of interest).\n",
        "- From Q4 2018 to Q1 2019 , there was a significant increase in the number of QS related to DS, possibly this could be due to Covid-19 and more people were forced into lockdown\n",
        "- The same pattern repeated from Q3 2020 to Q4 2021, where there was a drop when lockdown mandate was lifted and an increase when it was enforced\n",
        "- Overall, the average percentage of data science question related to `deep learning` has been fairly consistent throughout the year"
      ],
      "metadata": {
        "id": "5xYqEfOZkS5a"
      }
    },
    {
      "cell_type": "code",
      "source": [
        ""
      ],
      "metadata": {
        "id": "8xRDVjvkik7D"
      },
      "execution_count": 32,
      "outputs": []
    }
  ]
}